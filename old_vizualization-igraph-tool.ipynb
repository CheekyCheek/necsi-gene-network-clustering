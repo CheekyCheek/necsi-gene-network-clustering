{
 "cells": [
  {
   "cell_type": "code",
   "execution_count": 1,
   "metadata": {},
   "outputs": [],
   "source": [
    "import pandas as pd\n",
    "import numpy as np\n",
    "import matplotlib as ml\n",
    "import matplotlib.pyplot as plt\n",
    "import igraph as ig\n",
    "import datetime"
   ]
  },
  {
   "cell_type": "code",
   "execution_count": 2,
   "metadata": {},
   "outputs": [
    {
     "name": "stdout",
     "output_type": "stream",
     "text": [
      "Here\n",
      "2019-01-16 16:11:38.806501\n"
     ]
    }
   ],
   "source": [
    "rawLinks = pd.read_csv('data/9606.protein.links.v10.5.txt', delim_whitespace=True)\n",
    "rawAlias = pd.read_csv('data/9606.protein.aliases.v10.5.txt', delimiter='\\t')\n",
    "print('Here')\n",
    "print(str(datetime.datetime.now()))"
   ]
  },
  {
   "cell_type": "code",
   "execution_count": 3,
   "metadata": {},
   "outputs": [
    {
     "name": "stdout",
     "output_type": "stream",
     "text": [
      "Here\n",
      "2019-01-16 16:11:40.727038\n"
     ]
    }
   ],
   "source": [
    "#build a map of aliases to protein_ids\n",
    "proteinIdToAlias = {}\n",
    "aliasToProteinId = {}\n",
    "for val in list(zip(rawAlias.string_protein_id, rawAlias.alias)):\n",
    "    aliasToProteinId[val[1]] = val[0]\n",
    "    if not val[0] in proteinIdToAlias: #the alias file has lots of duplicates!\n",
    "        proteinIdToAlias[val[0]]=[val[1]]\n",
    "    else:\n",
    "        proteinIdToAlias[val[0]].append(val[1])\n",
    "        \n",
    "print('Here')\n",
    "print(str(datetime.datetime.now()))"
   ]
  },
  {
   "cell_type": "code",
   "execution_count": 4,
   "metadata": {},
   "outputs": [
    {
     "name": "stdout",
     "output_type": "stream",
     "text": [
      "Here\n",
      "2019-01-16 16:11:42.158247\n"
     ]
    }
   ],
   "source": [
    "#build the list of links mapped to gene product name\n",
    "links = list(zip(rawLinks.protein1, rawLinks.protein2))\n",
    "print('Here')\n",
    "print(str(datetime.datetime.now()))"
   ]
  },
  {
   "cell_type": "code",
   "execution_count": 5,
   "metadata": {},
   "outputs": [
    {
     "name": "stdout",
     "output_type": "stream",
     "text": [
      "Acceptable:  2575\n",
      "2019-01-16 16:11:42.171418\n"
     ]
    }
   ],
   "source": [
    "acceptableGeneSetB = set(pd.read_csv('Diff_1_2_01.txt', header=None)[0])\n",
    "acceptableGeneSetC = set(pd.read_csv('Diff_2_3_01.txt', header=None)[0])\n",
    "acceptableGeneSet = acceptableGeneSetB | acceptableGeneSetC\n",
    "\n",
    "print('Acceptable: ', len(acceptableGeneSet))\n",
    "print(str(datetime.datetime.now()))"
   ]
  },
  {
   "cell_type": "code",
   "execution_count": 6,
   "metadata": {},
   "outputs": [
    {
     "name": "stdout",
     "output_type": "stream",
     "text": [
      "Found  263874  valid links\n",
      "2019-01-16 16:13:14.789960\n"
     ]
    }
   ],
   "source": [
    "validLinks = []\n",
    "for link in links:\n",
    "    aliasesOfStart = proteinIdToAlias[link[0]]\n",
    "    aliasesOfEnd = proteinIdToAlias[link[1]]\n",
    "\n",
    "    startIsAcceptable = not acceptableGeneSet.isdisjoint(aliasesOfStart)\n",
    "    endIsAcceptable = not acceptableGeneSet.isdisjoint(aliasesOfEnd)\n",
    "    \n",
    "    if startIsAcceptable and endIsAcceptable:\n",
    "        validLinks.append(link)\n",
    "\n",
    "print('Found ', len(validLinks), ' valid links')\n",
    "print(str(datetime.datetime.now()))"
   ]
  },
  {
   "cell_type": "code",
   "execution_count": 19,
   "metadata": {},
   "outputs": [],
   "source": [
    "def createPlotProtein(proteinId, degreesToViz, fname):\n",
    "    print(str(datetime.datetime.now()))\n",
    "    print ('Finding all potential links to plot ' + str(proteinId))\n",
    "\n",
    "    filteredLinks = []\n",
    "    proteinsToSearch = [{'p': proteinId, 'd':1}]\n",
    "    while len(proteinsToSearch) > 0:\n",
    "        candidate = proteinsToSearch.pop(0)\n",
    "        for link in validLinks:\n",
    "            aliasesOfStart = proteinIdToAlias[link[0]]\n",
    "            aliasesOfEnd = proteinIdToAlias[link[1]]\n",
    "\n",
    "            startIsAcceptable = link[0] == candidate['p'] and not acceptableGeneSet.isdisjoint(aliasesOfStart)\n",
    "            endIsAcceptable = not acceptableGeneSet.isdisjoint(aliasesOfEnd)\n",
    "\n",
    "            if startIsAcceptable and endIsAcceptable:\n",
    "                filteredLinks.append(link)\n",
    "                if candidate['d'] < degreesToViz:\n",
    "                    toExplore = {'p':link[1], 'd':candidate['d']+1}\n",
    "                    proteinsToSearch.append(toExplore)\n",
    "\n",
    "    print('Found links: ', len(filteredLinks))\n",
    "    print(str(datetime.datetime.now()))\n",
    "\n",
    "    nodesDict = {}\n",
    "    for link in filteredLinks:\n",
    "        nodesDict[link[0]] = 1\n",
    "        nodesDict[link[1]] = 1\n",
    "\n",
    "    nodes = list(nodesDict.keys())\n",
    "\n",
    "    nodeColors = []\n",
    "    for node in nodes:\n",
    "        aliasesOfNode = proteinIdToAlias[node]\n",
    "        if not acceptableGeneSetB.isdisjoint(aliasesOfNode):\n",
    "            nodeColors.append('red')\n",
    "        else:\n",
    "            nodeColors.append('blue')\n",
    "\n",
    "    print('Which has nodes: ', len(nodes))\n",
    "    print(str(datetime.datetime.now()))\n",
    "\n",
    "    g = ig.Graph()\n",
    "    g.add_vertices(nodes)\n",
    "    g.add_edges(filteredLinks)\n",
    "    g.vs[\"label\"] = g.vs[\"name\"]\n",
    "    g.vs[\"color\"] = nodeColors\n",
    "\n",
    "    foundNodeToDelete = True\n",
    "    while foundNodeToDelete:\n",
    "        foundNodeToDelete = False\n",
    "        for v in g.vs:\n",
    "            if v.degree() <= 1:\n",
    "                v.delete()\n",
    "                foundNodeToDelete = True\n",
    "                break\n",
    "                \n",
    "    print('After deleting nodes with 1 degree: ', len(g.vs))\n",
    "    print(str(datetime.datetime.now()))\n",
    "\n",
    "    layout = g.layout_kamada_kawai()\n",
    "    ig.plot(g, 'out/geneproducts/' + fname, layout=layout, bbox=(8000,6000), margins=(50,50))\n",
    "    print('Done ' + fname)\n",
    "    print(str(datetime.datetime.now()))"
   ]
  },
  {
   "cell_type": "code",
   "execution_count": 17,
   "metadata": {},
   "outputs": [],
   "source": [
    "def createPlotGeneProduct(geneProductToViz, degreesToViz):\n",
    "    print(str(datetime.datetime.now()))\n",
    "    print ('Finding all potential links to plot ' + str(geneProductToViz))\n",
    "    fname = geneProductToViz + '_degree_' + str(degreesToViz) + '.png'\n",
    "    createPlotProtein(aliasToProteinId[geneProductToViz], degreesToViz, fname)"
   ]
  },
  {
   "cell_type": "code",
   "execution_count": 20,
   "metadata": {},
   "outputs": [
    {
     "name": "stdout",
     "output_type": "stream",
     "text": [
      "2019-01-16 17:02:19.637155\n",
      "Finding all potential links to plot KPI2\n",
      "2019-01-16 17:02:19.637243\n",
      "Finding all potential links to plot 9606.ENSP00000297293\n",
      "Found links:  5591\n",
      "2019-01-16 17:02:46.185258\n",
      "Which has nodes:  1528\n",
      "2019-01-16 17:02:46.195131\n",
      "After deleting nodes with 1 degree:  1088\n",
      "2019-01-16 17:02:46.514163\n",
      "Done KPI2_degree_2.png\n",
      "2019-01-16 17:02:58.324654\n",
      "Finished\n"
     ]
    }
   ],
   "source": [
    "degreesToViz = 2\n",
    "createPlotGeneProduct('KPI2', degreesToViz)\n",
    "print('Finished')"
   ]
  },
  {
   "cell_type": "code",
   "execution_count": 26,
   "metadata": {},
   "outputs": [
    {
     "name": "stdout",
     "output_type": "stream",
     "text": [
      "2019-01-16 17:05:07.605946\n",
      "Finding all potential links to plot 9606.ENSP00000229239\n",
      "Found links:  186578\n",
      "2019-01-16 17:18:34.999199\n",
      "Which has nodes:  2340\n",
      "2019-01-16 17:18:35.067794\n",
      "After deleting nodes with 1 degree:  2279\n",
      "2019-01-16 17:18:35.821816\n",
      "Done 9606.ENSP00000229239_degree_2.png\n",
      "2019-01-16 17:19:42.773613\n",
      "2019-01-16 17:19:42.776144\n",
      "Finding all potential links to plot 9606.ENSP00000215832\n",
      "Found links:  150144\n",
      "2019-01-16 17:28:21.473716\n",
      "Which has nodes:  2322\n",
      "2019-01-16 17:28:21.522047\n",
      "After deleting nodes with 1 degree:  2233\n",
      "2019-01-16 17:28:22.276039\n",
      "Done 9606.ENSP00000215832_degree_2.png\n",
      "2019-01-16 17:29:32.359641\n",
      "2019-01-16 17:29:32.361647\n",
      "Finding all potential links to plot 9606.ENSP00000349960\n",
      "Found links:  158461\n",
      "2019-01-16 17:38:17.856564\n",
      "Which has nodes:  2330\n",
      "2019-01-16 17:38:17.905784\n",
      "After deleting nodes with 1 degree:  2253\n",
      "2019-01-16 17:38:18.559605\n",
      "Done 9606.ENSP00000349960_degree_2.png\n",
      "2019-01-16 17:39:29.195359\n",
      "2019-01-16 17:39:29.197705\n",
      "Finding all potential links to plot 9606.ENSP00000350052\n",
      "Found links:  157676\n",
      "2019-01-16 17:48:01.173184\n",
      "Which has nodes:  2334\n",
      "2019-01-16 17:48:01.223320\n",
      "After deleting nodes with 1 degree:  2252\n",
      "2019-01-16 17:48:01.938721\n",
      "Done 9606.ENSP00000350052_degree_2.png\n",
      "2019-01-16 17:49:03.895293\n",
      "2019-01-16 17:49:03.897357\n",
      "Finding all potential links to plot 9606.ENSP00000346671\n",
      "Found links:  0\n",
      "2019-01-16 17:49:04.738434\n",
      "Which has nodes:  0\n",
      "2019-01-16 17:49:04.738481\n",
      "After deleting nodes with 1 degree:  0\n",
      "2019-01-16 17:49:04.738559\n",
      "Done 9606.ENSP00000346671_degree_2.png\n",
      "2019-01-16 17:49:06.135539\n"
     ]
    }
   ],
   "source": [
    "degreesToViz = 2\n",
    "proteinsToPlot = list(pd.read_csv('out/fullmap/high_degree_significant_genes.txt', header=None)[0])\n",
    "for protein in proteinsToPlot:\n",
    "    fname = protein + '_degree_' + str(degreesToViz) + '.png'\n",
    "    createPlotProtein(protein, degreesToViz, fname)\n"
   ]
  },
  {
   "cell_type": "code",
   "execution_count": null,
   "metadata": {},
   "outputs": [],
   "source": []
  }
 ],
 "metadata": {
  "kernelspec": {
   "display_name": "Python 3",
   "language": "python",
   "name": "python3"
  },
  "language_info": {
   "codemirror_mode": {
    "name": "ipython",
    "version": 3
   },
   "file_extension": ".py",
   "mimetype": "text/x-python",
   "name": "python",
   "nbconvert_exporter": "python",
   "pygments_lexer": "ipython3",
   "version": "3.7.2"
  }
 },
 "nbformat": 4,
 "nbformat_minor": 2
}
