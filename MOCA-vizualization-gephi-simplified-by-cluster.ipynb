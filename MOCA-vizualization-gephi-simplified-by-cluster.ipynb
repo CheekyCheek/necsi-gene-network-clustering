{
 "cells": [
  {
   "cell_type": "code",
   "execution_count": 1,
   "metadata": {},
   "outputs": [],
   "source": [
    "import networkx as nx\n",
    "import pandas as pd\n",
    "import numpy as np\n",
    "import matplotlib as ml\n",
    "import matplotlib.pyplot as plt\n",
    "import datetime\n",
    "\n",
    "trajectory = 'VE-HG1'"
   ]
  },
  {
   "cell_type": "code",
   "execution_count": 2,
   "metadata": {},
   "outputs": [
    {
     "name": "stdout",
     "output_type": "stream",
     "text": [
      "Here\n",
      "2019-03-27 13:13:17.314791\n"
     ]
    }
   ],
   "source": [
    "rawLinks = pd.read_csv('MOCA-data/10090.protein.links.full.v11.0.CombinedScore.HighConfidence.csv')\n",
    "rawAlias = pd.read_csv('MOCA-data/10090.protein.aliases.v11.0.UniProt.csv')\n",
    "print('Here')\n",
    "print(str(datetime.datetime.now()))"
   ]
  },
  {
   "cell_type": "code",
   "execution_count": 3,
   "metadata": {},
   "outputs": [
    {
     "name": "stdout",
     "output_type": "stream",
     "text": [
      "Here\n",
      "There are  0  aliases which point to multiple protein ids\n",
      "2019-03-27 13:13:17.428235\n"
     ]
    }
   ],
   "source": [
    "#build a map of proteinId in rawLinks to gene product names\n",
    "proteinIdToAlias = {}\n",
    "aliasToProteinId = {}\n",
    "duplicatedAliases = []\n",
    "for val in list(zip(rawAlias.string_protein_id, rawAlias.alias)):\n",
    "    if val[1] in aliasToProteinId:\n",
    "        duplicatedAliases.append(str(val[1]))\n",
    "        aliasToProteinId[val[1]].append(val[0])\n",
    "    else:\n",
    "        aliasToProteinId[val[1]] = [val[0]]\n",
    "    \n",
    "    if not val[0] in proteinIdToAlias: #the alias file has lots of duplicates!\n",
    "        proteinIdToAlias[val[0]] = [val[1]]\n",
    "    else:\n",
    "        proteinIdToAlias[val[0]].append(val[1])\n",
    "        \n",
    "print('Here')\n",
    "print('There are ', len(duplicatedAliases), ' aliases which point to multiple protein ids')\n",
    "print(str(datetime.datetime.now()))"
   ]
  },
  {
   "cell_type": "code",
   "execution_count": 4,
   "metadata": {},
   "outputs": [
    {
     "name": "stdout",
     "output_type": "stream",
     "text": [
      "Here\n",
      "2019-03-27 13:13:18.108712\n"
     ]
    }
   ],
   "source": [
    "#build the list of links mapped to gene product name\n",
    "links = list(zip(rawLinks.protein1, rawLinks.protein2, rawLinks.combined_score))\n",
    "links = [list(elem) for elem in links]\n",
    "print('Here')\n",
    "print(str(datetime.datetime.now()))"
   ]
  },
  {
   "cell_type": "code",
   "execution_count": 5,
   "metadata": {},
   "outputs": [
    {
     "name": "stdout",
     "output_type": "stream",
     "text": [
      "2019-03-27 13:13:18.114910\n",
      "2019-03-27 13:13:18.316540\n"
     ]
    }
   ],
   "source": [
    "#read in the gene list and build the acceptable set\n",
    "print(str(datetime.datetime.now()))\n",
    "rawGeneList = pd.read_csv('MOCA-data/41586_2019_933_MOESM4_ESM.csv')\n",
    "genesByTrajectory = {};\n",
    "\n",
    "for index, row in rawGeneList.iterrows():\n",
    "    traj = row.trajectory;\n",
    "    mgi = row.mgi.upper();\n",
    "    cluster = row.cluster;\n",
    "    \n",
    "    if traj in genesByTrajectory:\n",
    "        genesByTrajectory[traj].append({'mgi': mgi, 'cluster': cluster});\n",
    "    else:\n",
    "        genesByTrajectory[traj] = [{'mgi': mgi, 'cluster': cluster}];\n",
    "\n",
    "print(str(datetime.datetime.now()))"
   ]
  },
  {
   "cell_type": "code",
   "execution_count": 6,
   "metadata": {},
   "outputs": [
    {
     "name": "stdout",
     "output_type": "stream",
     "text": [
      "2019-03-27 13:13:18.327471\n",
      "There are  258  filtered links\n",
      "2019-03-27 13:13:18.871784\n",
      "Done...\n",
      "Now open out/gephi/moca/mocaVE-HG1_Cluster_1.gml\n",
      "2019-03-27 13:13:18.888978\n",
      "There are  164  filtered links\n",
      "2019-03-27 13:13:19.434878\n",
      "Done...\n",
      "Now open out/gephi/moca/mocaVE-HG1_Cluster_2.gml\n",
      "2019-03-27 13:13:19.443229\n",
      "There are  292  filtered links\n",
      "2019-03-27 13:13:19.997940\n",
      "Done...\n",
      "Now open out/gephi/moca/mocaVE-HG1_Cluster_3.gml\n",
      "2019-03-27 13:13:20.010045\n",
      "There are  74  filtered links\n",
      "2019-03-27 13:13:20.550134\n",
      "Done...\n",
      "Now open out/gephi/moca/mocaVE-HG1_Cluster_4.gml\n",
      "2019-03-27 13:13:20.553849\n",
      "There are  50  filtered links\n",
      "2019-03-27 13:13:21.100760\n",
      "Done...\n",
      "Now open out/gephi/moca/mocaVE-HG1_Cluster_5.gml\n",
      "2019-03-27 13:13:21.103751\n",
      "There are  138  filtered links\n",
      "2019-03-27 13:13:21.639818\n",
      "Done...\n",
      "Now open out/gephi/moca/mocaVE-HG1_Cluster_6.gml\n",
      "2019-03-27 13:13:21.644449\n",
      "There are  38  filtered links\n",
      "2019-03-27 13:13:22.184540\n",
      "Done...\n",
      "Now open out/gephi/moca/mocaVE-HG1_Cluster_7.gml\n",
      "2019-03-27 13:13:22.186641\n",
      "There are  20  filtered links\n",
      "2019-03-27 13:13:22.713130\n",
      "Done...\n",
      "Now open out/gephi/moca/mocaVE-HG1_Cluster_8.gml\n",
      "2019-03-27 13:13:22.714772\n",
      "There are  42  filtered links\n",
      "2019-03-27 13:13:23.254909\n",
      "Done...\n",
      "Now open out/gephi/moca/mocaVE-HG1_Cluster_9.gml\n",
      "2019-03-27 13:13:23.257050\n",
      "There are  20  filtered links\n",
      "2019-03-27 13:13:23.793934\n",
      "Done...\n",
      "Now open out/gephi/moca/mocaVE-HG1_Cluster_10.gml\n",
      "2019-03-27 13:13:23.795516\n",
      "There are  106  filtered links\n",
      "2019-03-27 13:13:24.327953\n",
      "Done...\n",
      "Now open out/gephi/moca/mocaVE-HG1_Cluster_11.gml\n",
      "2019-03-27 13:13:24.331200\n"
     ]
    }
   ],
   "source": [
    "#filter links where both in and out are in the dataset\n",
    "print(str(datetime.datetime.now()))\n",
    "\n",
    "for cluster in range(1,12):\n",
    "    acceptableGeneSet = set(map(lambda x: x['mgi'], filter(lambda x: x['cluster'] == cluster, genesByTrajectory[trajectory])))\n",
    "    \n",
    "    filteredLinks = []\n",
    "    for link in links:\n",
    "        aliasesOfStart = proteinIdToAlias[link[0]]\n",
    "        aliasesOfEnd = proteinIdToAlias[link[1]]\n",
    "\n",
    "        startIsAcceptable = not acceptableGeneSet.isdisjoint(aliasesOfStart)\n",
    "        endIsAcceptable = not acceptableGeneSet.isdisjoint(aliasesOfEnd)\n",
    "\n",
    "        if startIsAcceptable and endIsAcceptable:\n",
    "            filteredLinks.append(link.copy())\n",
    "\n",
    "    print('There are ', len(filteredLinks), ' filtered links')\n",
    "    print(str(datetime.datetime.now()))\n",
    "\n",
    "    for geneProduct in acceptableGeneSet:\n",
    "        if not geneProduct in aliasToProteinId:\n",
    "            continue\n",
    "\n",
    "        proteinIds = aliasToProteinId[geneProduct]\n",
    "        for proteinId in proteinIds:\n",
    "            for link in filteredLinks:\n",
    "                if link[0] == proteinId:\n",
    "                    link[0] = geneProduct\n",
    "\n",
    "                if link[1] == proteinId:\n",
    "                    link[1] = geneProduct\n",
    "\n",
    "    print('Done...')\n",
    "    \n",
    "    G = nx.DiGraph()\n",
    "    G.add_weighted_edges_from(filteredLinks)\n",
    "    nx.write_gml(G, 'out/gephi/moca/moca' + trajectory + '_Cluster_' + str(cluster) + '.gml')\n",
    "    print('Now open out/gephi/moca/moca' + trajectory + '_Cluster_' + str(cluster) + '.gml')\n",
    "    print(str(datetime.datetime.now()))"
   ]
  },
  {
   "cell_type": "code",
   "execution_count": null,
   "metadata": {},
   "outputs": [],
   "source": []
  }
 ],
 "metadata": {
  "kernelspec": {
   "display_name": "Python 3",
   "language": "python",
   "name": "python3"
  },
  "language_info": {
   "codemirror_mode": {
    "name": "ipython",
    "version": 3
   },
   "file_extension": ".py",
   "mimetype": "text/x-python",
   "name": "python",
   "nbconvert_exporter": "python",
   "pygments_lexer": "ipython3",
   "version": "3.7.2"
  }
 },
 "nbformat": 4,
 "nbformat_minor": 2
}
