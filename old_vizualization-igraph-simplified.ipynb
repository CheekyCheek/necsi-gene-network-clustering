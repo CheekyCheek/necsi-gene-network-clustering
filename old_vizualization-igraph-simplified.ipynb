{
 "cells": [
  {
   "cell_type": "code",
   "execution_count": 1,
   "metadata": {},
   "outputs": [],
   "source": [
    "import pandas as pd\n",
    "import numpy as np\n",
    "import matplotlib as ml\n",
    "import matplotlib.pyplot as plt\n",
    "import igraph as ig\n",
    "import datetime"
   ]
  },
  {
   "cell_type": "code",
   "execution_count": 2,
   "metadata": {},
   "outputs": [
    {
     "name": "stdout",
     "output_type": "stream",
     "text": [
      "Here\n",
      "2019-01-16 11:20:54.119011\n"
     ]
    }
   ],
   "source": [
    "rawLinks = pd.read_csv('data/9606.protein.links.v10.5.txt', delim_whitespace=True)\n",
    "rawAlias = pd.read_csv('data/9606.protein.aliases.v10.5.txt', delimiter='\\t')\n",
    "print('Here')\n",
    "print(str(datetime.datetime.now()))"
   ]
  },
  {
   "cell_type": "code",
   "execution_count": 3,
   "metadata": {},
   "outputs": [
    {
     "name": "stdout",
     "output_type": "stream",
     "text": [
      "Here\n",
      "2019-01-16 11:20:55.460644\n"
     ]
    }
   ],
   "source": [
    "#build a map of proteinId in rawLinks to gene product names\n",
    "proteinIdToAlias = {}\n",
    "for val in list(zip(rawAlias.string_protein_id, rawAlias.alias)):\n",
    "    if not val[0] in proteinIdToAlias: #the alias file has lots of duplicates!\n",
    "        proteinIdToAlias[val[0]]=[val[1]]\n",
    "    else:\n",
    "        proteinIdToAlias[val[0]].append(val[1])\n",
    "        \n",
    "print('Here')\n",
    "print(str(datetime.datetime.now()))"
   ]
  },
  {
   "cell_type": "code",
   "execution_count": 4,
   "metadata": {},
   "outputs": [
    {
     "name": "stdout",
     "output_type": "stream",
     "text": [
      "Here\n",
      "2019-01-16 11:20:57.300597\n"
     ]
    }
   ],
   "source": [
    "#build the list of links mapped to gene product name\n",
    "links = list(zip(rawLinks.protein1, rawLinks.protein2))\n",
    "print('Here')\n",
    "print(str(datetime.datetime.now()))"
   ]
  },
  {
   "cell_type": "code",
   "execution_count": 5,
   "metadata": {},
   "outputs": [
    {
     "name": "stdout",
     "output_type": "stream",
     "text": [
      "Acceptable:  1986\n",
      "2019-01-16 11:20:57.319275\n",
      "Links:  162118\n",
      "2019-01-16 11:22:37.310346\n"
     ]
    }
   ],
   "source": [
    "#filter links where both in and out are in the dataset\n",
    "acceptableGeneList = pd.read_csv('Diff_2_3_01.txt', header=None)\n",
    "#acceptableGeneList = ['ARF5','AK302958']\n",
    "acceptableGeneSet = set(acceptableGeneList[0])\n",
    "\n",
    "print('Acceptable: ', len(acceptableGeneList))\n",
    "print(str(datetime.datetime.now()))\n",
    "\n",
    "filteredLinks = []\n",
    "for link in links:\n",
    "    aliasesOfStart = proteinIdToAlias[link[0]]\n",
    "    aliasesOfEnd = proteinIdToAlias[link[1]]\n",
    "    \n",
    "    startIsAcceptable = not acceptableGeneSet.isdisjoint(aliasesOfStart)\n",
    "    endIsAcceptable = not acceptableGeneSet.isdisjoint(aliasesOfEnd)\n",
    "    \n",
    "    if startIsAcceptable and endIsAcceptable:\n",
    "        filteredLinks.append(link)\n",
    "        \n",
    "print('Links: ', len(filteredLinks))\n",
    "print(str(datetime.datetime.now()))"
   ]
  },
  {
   "cell_type": "code",
   "execution_count": 6,
   "metadata": {},
   "outputs": [
    {
     "name": "stdout",
     "output_type": "stream",
     "text": [
      "Nodes:  1836\n",
      "Links:  162118\n",
      "2019-01-16 11:22:37.492250\n"
     ]
    }
   ],
   "source": [
    "nodesDict = {}\n",
    "for link in filteredLinks:\n",
    "    nodesDict[link[0]] = 1\n",
    "    nodesDict[link[1]] = 1\n",
    "    \n",
    "nodes = list(nodesDict.keys())\n",
    "print('Nodes: ', len(nodes))\n",
    "print('Links: ', len(filteredLinks))\n",
    "print(str(datetime.datetime.now()))"
   ]
  },
  {
   "cell_type": "code",
   "execution_count": 7,
   "metadata": {},
   "outputs": [
    {
     "name": "stdout",
     "output_type": "stream",
     "text": [
      "2019-01-16 11:22:42.983463\n"
     ]
    }
   ],
   "source": [
    "g = ig.Graph()\n",
    "g.add_vertices(nodes)\n",
    "g.add_edges(filteredLinks)\n",
    "g.vs[\"label\"] = g.vs[\"name\"]\n",
    "layout = g.layout_lgl()\n",
    "#g.write_svg('graph.svg', layout = layout, width=25000, height=25000)\n",
    "print(str(datetime.datetime.now()))"
   ]
  },
  {
   "cell_type": "code",
   "execution_count": 8,
   "metadata": {},
   "outputs": [
    {
     "name": "stdout",
     "output_type": "stream",
     "text": [
      "start\n",
      "2019-01-16 11:22:42.990600\n",
      "2019-01-16 11:25:01.064199\n",
      "done -- open graph_lgl_simplified_2_3.png\n"
     ]
    }
   ],
   "source": [
    "print('start')\n",
    "print(str(datetime.datetime.now()))\n",
    "ig.plot(g, 'out/fullmap/graph_lgl_simplified_2_3.png', layout = layout, bbox = (30000, 30000))\n",
    "print(str(datetime.datetime.now()))\n",
    "print('done -- open out/fullmap/graph_lgl_simplified_2_3.png')"
   ]
  },
  {
   "cell_type": "code",
   "execution_count": null,
   "metadata": {},
   "outputs": [],
   "source": []
  }
 ],
 "metadata": {
  "kernelspec": {
   "display_name": "Python 3",
   "language": "python",
   "name": "python3"
  },
  "language_info": {
   "codemirror_mode": {
    "name": "ipython",
    "version": 3
   },
   "file_extension": ".py",
   "mimetype": "text/x-python",
   "name": "python",
   "nbconvert_exporter": "python",
   "pygments_lexer": "ipython3",
   "version": "3.7.2"
  }
 },
 "nbformat": 4,
 "nbformat_minor": 2
}
