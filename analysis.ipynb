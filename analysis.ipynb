{
 "cells": [
  {
   "cell_type": "markdown",
   "metadata": {},
   "source": [
    "This program analyses the breast cancer tumor dataset to find the gene products which are statistically different between stage 1 and stage 2, stage 1 and stage 3 and stage 2 and stage 3 cancer tumors\n",
    "\n",
    "At the end it applies machine learning to build a model which can be used to predict with an R^2 of .9 to determine the type of the tumor based on the clustered expression levels of the gene products from step 1"
   ]
  },
  {
   "cell_type": "code",
   "execution_count": 1,
   "metadata": {},
   "outputs": [],
   "source": [
    "#import necessary libraries\n",
    "import pandas as pd\n",
    "import numpy as np\n",
    "import matplotlib.pyplot as plt\n",
    "import scipy.stats as stats"
   ]
  },
  {
   "cell_type": "code",
   "execution_count": 2,
   "metadata": {},
   "outputs": [],
   "source": [
    "def santizeTumorGrade(rawTumorGrade):\n",
    "    noWords = rawTumorGrade.replace('tumour grade: ','')\n",
    "    if noWords == '.':\n",
    "        return 0\n",
    "    else:\n",
    "        return int(noWords)"
   ]
  },
  {
   "cell_type": "code",
   "execution_count": 3,
   "metadata": {},
   "outputs": [],
   "source": [
    "def findAllTumorIdsWithGrade(grade, tumorIdToGrade):\n",
    "    ret = [];\n",
    "    for k,v in tumorIdToGrade.items():\n",
    "        if v == grade:\n",
    "            ret.append(k)\n",
    "            \n",
    "    return ret"
   ]
  },
  {
   "cell_type": "code",
   "execution_count": 4,
   "metadata": {},
   "outputs": [],
   "source": [
    "def constructPdfData(data, bins, cumulate):\n",
    "    ret = [];\n",
    "    numBins = len(bins)\n",
    "    binsRange = range(0,numBins)\n",
    "    count = len(data) #total number of tumors with this gene\n",
    "    #initalize the returned data with 0 counts in all bins\n",
    "    for i in binsRange:\n",
    "        ret.append(0)\n",
    "    \n",
    "    #go through the expressionData and bin it\n",
    "    for v in data:\n",
    "        for i in binsRange:\n",
    "            if i == 0:\n",
    "                if v < bins[i+1]: #anything lower then the second bin value is in the first bin\n",
    "                    ret[i] += 1\n",
    "            elif i == numBins - 1: #anything equal to or higher then the last bin value is in the last bin\n",
    "                if v >= bins[i]: \n",
    "                    ret[i] += 1\n",
    "            elif v >= bins[i] and v < bins[i+1]:\n",
    "                ret[i] += 1\n",
    "    \n",
    "    #now normalize it\n",
    "    for i in binsRange:\n",
    "        ret[i] = ret[i]/count\n",
    "        \n",
    "    #then cumulate it if we want to\n",
    "    if cumulate:\n",
    "        for i in range(1,numBins):\n",
    "            ret[i] = ret[i] + ret[i-1]\n",
    "        \n",
    "    return ret  "
   ]
  },
  {
   "cell_type": "code",
   "execution_count": 5,
   "metadata": {},
   "outputs": [],
   "source": [
    "def writeGeneListToFile(fname, geneList):\n",
    "    with open(fname, 'w') as f:\n",
    "        for item in geneList:\n",
    "            f.write(\"%s\\n\" % item)"
   ]
  },
  {
   "cell_type": "code",
   "execution_count": 6,
   "metadata": {},
   "outputs": [],
   "source": [
    "#this is the expression level rows are the genes, columns are the tumors\n",
    "rawExpressionData = pd.read_csv('data/raw_expression_data.csv', index_col=0)"
   ]
  },
  {
   "cell_type": "code",
   "execution_count": 7,
   "metadata": {},
   "outputs": [],
   "source": [
    "#this is the identification information for each tumor in each column \n",
    "#(contains ProbeId which allows us to identify the gene name)\n",
    "rawTumorIdent = pd.read_csv('data/raw_ident.csv', encoding = \"ISO-8859-1\")"
   ]
  },
  {
   "cell_type": "code",
   "execution_count": 8,
   "metadata": {},
   "outputs": [],
   "source": [
    "#Build dictionary which allows us to look up Gene by ProbeId\n",
    "searchKeyProbId = pd.read_csv('data/SearchKey_ProbeId.csv')\n",
    "numRows = searchKeyProbId['Search_key'].size\n",
    "probeIdToGene = {}\n",
    "for i in range(0,numRows):\n",
    "    probeIdToGene[searchKeyProbId['ProbeId'][i]] = searchKeyProbId['Search_key'][i]"
   ]
  },
  {
   "cell_type": "code",
   "execution_count": 9,
   "metadata": {},
   "outputs": [],
   "source": [
    "#Build a dictionary of tumorId to tumor grade\n",
    "tumorIdToGrade = {}\n",
    "tumorGradeRow = rawTumorIdent.values[13] #Row at index 13 contains the tumor grade\n",
    "tumorIdentRow = rawTumorIdent.values[35] #Row at index 25 contains the tumor identity\n",
    "numCols = tumorIdentRow.size\n",
    "\n",
    "for i in range(1,numCols):\n",
    "    tumorIdToGrade[tumorIdentRow[i]] = santizeTumorGrade(tumorGradeRow[i])"
   ]
  },
  {
   "cell_type": "code",
   "execution_count": 10,
   "metadata": {},
   "outputs": [],
   "source": [
    "#Build a dictionary of tumor grade [0-4) where the values are the filtered rawExpressionData\n",
    "#where the grade of the tumor matches the key\n",
    "tumorsByGrade = {}\n",
    "for i in range(0,4):\n",
    "    tumorsByGrade[i] = rawExpressionData[findAllTumorIdsWithGrade(i, tumorIdToGrade)]"
   ]
  },
  {
   "cell_type": "code",
   "execution_count": 11,
   "metadata": {},
   "outputs": [
    {
     "data": {
      "text/plain": [
       "([<matplotlib.axis.XTick at 0x120661f60>,\n",
       "  <matplotlib.axis.XTick at 0x120661908>,\n",
       "  <matplotlib.axis.XTick at 0x1206617b8>,\n",
       "  <matplotlib.axis.XTick at 0x12069ecf8>],\n",
       " <a list of 4 Text xticklabel objects>)"
      ]
     },
     "execution_count": 11,
     "metadata": {},
     "output_type": "execute_result"
    },
    {
     "data": {
      "image/png": "[encoded data removed]",
      "text/plain": [
       "<Figure size 432x288 with 1 Axes>"
      ]
     },
     "metadata": {
      "needs_background": "light"
     },
     "output_type": "display_data"
    }
   ],
   "source": [
    "#How many tumors do we have of each type\n",
    "counts = {k:len(v.columns) for (k,v) in tumorsByGrade.items()}\n",
    "plt.bar(counts.keys(), counts.values())\n",
    "plt.xticks([0,1,2,3])"
   ]
  },
  {
   "cell_type": "code",
   "execution_count": 12,
   "metadata": {},
   "outputs": [
    {
     "data": {
      "text/plain": [
       "<matplotlib.legend.Legend at 0x120779240>"
      ]
     },
     "execution_count": 12,
     "metadata": {},
     "output_type": "execute_result"
    },
    {
     "data": {
      "image/png": "[encoded data removed]",
      "text/plain": [
       "<Figure size 432x288 with 1 Axes>"
      ]
     },
     "metadata": {
      "needs_background": "light"
     },
     "output_type": "display_data"
    }
   ],
   "source": [
    "#distrubtion of expression level for a gene segemented by tumor type\n",
    "geneIdx = 956 #the gene we want to plot by its index\n",
    "geneIdent = probeIdToGene[rawExpressionData.iloc[geneIdx].name] #its actual name\n",
    "\n",
    "minVal = tumorsByGrade[1].iloc[geneIdx].min()\n",
    "maxVal = tumorsByGrade[1].iloc[geneIdx].max()\n",
    "\n",
    "for i in range(2,4):\n",
    "    minVal = min(tumorsByGrade[i].iloc[geneIdx].min(), minVal)\n",
    "    maxVal = max(tumorsByGrade[i].iloc[geneIdx].max(), maxVal)\n",
    "    \n",
    "bins = np.linspace(minVal, maxVal, 50)\n",
    "\n",
    "for i in range(1,4):\n",
    "    plt.plot(bins, constructPdfData(tumorsByGrade[i].iloc[geneIdx], bins, True), label='Tumor Grade ' + str(i))\n",
    "\n",
    "plt.title(str(geneIdent) + ' Expression Level by Tumor Grade')\n",
    "plt.ylabel('Probability that gene product is expressed')\n",
    "plt.xlabel('Gene Product Expression Level')\n",
    "plt.legend()"
   ]
  },
  {
   "cell_type": "code",
   "execution_count": 13,
   "metadata": {},
   "outputs": [
    {
     "data": {
      "text/plain": [
       "\"\\nProduces a plot of all gene products for tumors of type 1\\ntumorGrade = 1\\nnumGenes = len(tumorsByGrade[tumorGrade])\\nfor geneIdx in range(0,numGenes):\\n    minVal = tumorsByGrade[tumorGrade].iloc[geneIdx].min()\\n    maxVal = tumorsByGrade[tumorGrade].iloc[geneIdx].max()\\n    \\n    bins = np.linspace(minVal, maxVal, 50)\\n    dat = constructPdfData(tumorsByGrade[tumorGrade].iloc[geneIdx], bins, True)\\n    plt.plot(bins, dat)\\n\\nplt.title('Tumor Grade ' + str(tumorGrade) + ' Gene Product Expression')\\n\""
      ]
     },
     "execution_count": 13,
     "metadata": {},
     "output_type": "execute_result"
    }
   ],
   "source": [
    "'''\n",
    "Produces a plot of all gene products for tumors of type 1\n",
    "tumorGrade = 1\n",
    "numGenes = len(tumorsByGrade[tumorGrade])\n",
    "for geneIdx in range(0,numGenes):\n",
    "    minVal = tumorsByGrade[tumorGrade].iloc[geneIdx].min()\n",
    "    maxVal = tumorsByGrade[tumorGrade].iloc[geneIdx].max()\n",
    "    \n",
    "    bins = np.linspace(minVal, maxVal, 50)\n",
    "    dat = constructPdfData(tumorsByGrade[tumorGrade].iloc[geneIdx], bins, True)\n",
    "    plt.plot(bins, dat)\n",
    "\n",
    "plt.title('Tumor Grade ' + str(tumorGrade) + ' Gene Product Expression')\n",
    "'''"
   ]
  },
  {
   "cell_type": "code",
   "execution_count": 14,
   "metadata": {},
   "outputs": [
    {
     "name": "stdout",
     "output_type": "stream",
     "text": [
      "Between tumor types  1<->2  there are  765  genes products which are expressed differently\n",
      "Between tumor types  2<->3  there are  1986  genes products which are expressed differently\n",
      "Between tumor types  1<->3  there are  2995  genes products which are expressed differently\n"
     ]
    }
   ],
   "source": [
    "#test for differences in gene expression by gene by tumor type\n",
    "alpha = 0.01\n",
    "numGenes = len(tumorsByGrade[0])\n",
    "\n",
    "uniqueTypePairs = [[1,2],[2,3],[1,3]]\n",
    "genesWhichAreDifferentBetweenTypes = {}\n",
    "\n",
    "for typePair in uniqueTypePairs:\n",
    "    case = str(typePair[0]) + '<->' + str(typePair[1])\n",
    "    genesWhichAreDifferentBetweenTypes[case] = []\n",
    "        \n",
    "for geneIdx in range(0,numGenes):\n",
    "    for typePair in uniqueTypePairs:\n",
    "        case = str(typePair[0]) + '<->' + str(typePair[1])                \n",
    "        pvalue = stats.ttest_ind(tumorsByGrade[typePair[0]].iloc[geneIdx], tumorsByGrade[typePair[1]].iloc[geneIdx], equal_var = False).pvalue\n",
    "        if pvalue < alpha:\n",
    "            geneIdent = probeIdToGene[rawExpressionData.iloc[geneIdx].name] #its actual name\n",
    "            genesWhichAreDifferentBetweenTypes[case].append(geneIdent)\n",
    "\n",
    "for k,v in genesWhichAreDifferentBetweenTypes.items():\n",
    "    print('Between tumor types ', k, ' there are ', len(v), ' genes products which are expressed differently')"
   ]
  },
  {
   "cell_type": "code",
   "execution_count": 15,
   "metadata": {},
   "outputs": [
    {
     "name": "stdout",
     "output_type": "stream",
     "text": [
      "Wrote out all the gene products which are statistically significantly different between tumor types\n"
     ]
    }
   ],
   "source": [
    "writeGeneListToFile('Diff_1_2_01.txt', genesWhichAreDifferentBetweenTypes['1<->2'])\n",
    "writeGeneListToFile('Diff_1_3_01.txt', genesWhichAreDifferentBetweenTypes['1<->3'])\n",
    "writeGeneListToFile('Diff_2_3_01.txt', genesWhichAreDifferentBetweenTypes['2<->3'])\n",
    "\n",
    "print('Wrote out all the gene products which are statistically significantly different between tumor types')"
   ]
  },
  {
   "cell_type": "code",
   "execution_count": 16,
   "metadata": {},
   "outputs": [
    {
     "name": "stdout",
     "output_type": "stream",
     "text": [
      "Sample Data Len  104\n",
      "Unknown Set Size Unknowns 112\n",
      "Feature Set Size  4569\n",
      "Feature Set Size Unknowns 4569\n"
     ]
    }
   ],
   "source": [
    "#go through the gene expressions and limit from all gene products to just those which are special\n",
    "sampleData = []\n",
    "tumorTypes = []\n",
    "tumorsToPredict = []\n",
    "\n",
    "a = set(genesWhichAreDifferentBetweenTypes['1<->2'])\n",
    "b = set(genesWhichAreDifferentBetweenTypes['1<->3'])\n",
    "c = set(genesWhichAreDifferentBetweenTypes['2<->3'])\n",
    "acceptableGeneSet = a | b | c\n",
    "\n",
    "for grade in tumorsByGrade:\n",
    "    for tumor in tumorsByGrade[grade]:\n",
    "        expressionLevels = []\n",
    "        for probeId, expressionLevel in tumorsByGrade[grade][tumor].iteritems():\n",
    "            if probeIdToGene[probeId] in acceptableGeneSet:\n",
    "                expressionLevels.append(expressionLevel)\n",
    "                \n",
    "        if grade == 0 or grade == 2:\n",
    "            tumorsToPredict.append(expressionLevels)\n",
    "        else:\n",
    "            tumorTypes.append(grade)\n",
    "            sampleData.append(expressionLevels)\n",
    "            \n",
    "print('Sample Data Len ', len(sampleData))\n",
    "print('Unknown Set Size Unknowns', len(tumorsToPredict))\n",
    "print('Feature Set Size ', len(sampleData[0]))\n",
    "print('Feature Set Size Unknowns', len(tumorsToPredict[0]))"
   ]
  },
  {
   "cell_type": "code",
   "execution_count": 28,
   "metadata": {},
   "outputs": [
    {
     "name": "stdout",
     "output_type": "stream",
     "text": [
      "Starting Sample Size  104\n",
      "Starting Feature Size  4569\n",
      "Built Data Set...\n",
      "Sample Size  104\n",
      "Feature Size  8\n",
      "Training Size  83\n",
      "Testing Size  83\n",
      "Training...\n",
      "Confusion Matrix\n",
      "[[ 9  1]\n",
      " [ 1 10]]\n",
      "R^2 of the predictor 0.9047619047619048\n",
      "[3 3 1 3 1 1 1 3 3 3 3 3 3 1 1 3 3 3 3 1 3 3 3 3 3 1 3 3 3 1 1 3 3 3 3 3 3\n",
      " 1 1 3 1 3 3 1 3 3 3 1 3 3 1 3 3 3 1 3 3 1 3 1 1 3 3 3 3 1 1 1 1 1 1 1 3 1\n",
      " 3 1 1 3 1 3 3 1 3 1 1 3 3 1 3 1 3 3 1 3 1 3 3 3 1 1 1 3 3 3 3 3 1 3 3 1 3\n",
      " 3]\n"
     ]
    },
    {
     "name": "stderr",
     "output_type": "stream",
     "text": [
      "/usr/local/lib/python3.7/site-packages/sklearn/ensemble/forest.py:246: FutureWarning: The default value of n_estimators will change from 10 in version 0.20 to 100 in 0.22.\n",
      "  \"10 in version 0.20 to 100 in 0.22.\", FutureWarning)\n"
     ]
    }
   ],
   "source": [
    "from sklearn import model_selection\n",
    "\n",
    "from sklearn.cluster import FeatureAgglomeration\n",
    "from sklearn.cluster import KMeans\n",
    "\n",
    "print('Starting Sample Size ', len(sampleData))\n",
    "print('Starting Feature Size ', len(sampleData[0]))\n",
    "\n",
    "#cluster the special genes into 8 clusters\n",
    "agglo = FeatureAgglomeration(n_clusters=8)\n",
    "agglo.fit(sampleData)\n",
    "sampleDataReducedF = agglo.transform(sampleData)\n",
    "tumorsToPredictReducedF = agglo.transform(tumorsToPredict)\n",
    "\n",
    "#build data set for testing and training\n",
    "validationSize = 0.20\n",
    "seed = 9\n",
    "X_train, X_test, y_train, y_test = model_selection.train_test_split(sampleDataReducedF, \n",
    "                                                                    tumorTypes, \n",
    "                                                                    test_size=validationSize, \n",
    "                                                                    random_state=seed)\n",
    "print('Built Data Set...')\n",
    "print('Sample Size ', len(sampleDataReducedF))\n",
    "print('Feature Size ', len(sampleDataReducedF[0]))\n",
    "print('Training Size ', len(X_train))\n",
    "print('Testing Size ', len(y_train))\n",
    "\n",
    "#now we try to classify the unclassified tumors \n",
    "from sklearn.metrics import confusion_matrix\n",
    "\n",
    "#from sklearn.neural_network import MLPClassifier\n",
    "#this is for MLPClassifier\n",
    "#from sklearn.preprocessing import StandardScaler\n",
    "\n",
    "#scaler = StandardScaler()  \n",
    "# Don't cheat - fit only on training data\n",
    "\n",
    "#scaler.fit(X_train)  \n",
    "#X_train = scaler.transform(X_train)  \n",
    "\n",
    "# apply same transformation to test data\n",
    "#X_test = scaler.transform(X_test)\n",
    "#clf = MLPClassifier(solver='lbfgs', alpha=alpha, hidden_layer_sizes=(1024, 256), random_state=1)\n",
    "\n",
    "import sklearn.naive_bayes as naive_bayes\n",
    "import sklearn.ensemble as ensemble #RandomForestClassifier\n",
    "\n",
    "clf = ensemble.RandomForestClassifier()\n",
    "#clf = naive_bayes.GaussianNB()\n",
    "print('Training...')\n",
    "clf.fit(X_train, y_train)\n",
    "\n",
    "yHat = clf.predict(X_test)\n",
    "\n",
    "print('Confusion Matrix')\n",
    "print(confusion_matrix(y_test, yHat))\n",
    "\n",
    "acc = clf.score(X_test, y_test)\n",
    "print('R^2 of the predictor', acc)\n",
    "\n",
    "yHat = clf.predict(tumorsToPredictReducedF)\n",
    "print(yHat)"
   ]
  },
  {
   "cell_type": "code",
   "execution_count": null,
   "metadata": {},
   "outputs": [],
   "source": []
  }
 ],
 "metadata": {
  "kernelspec": {
   "display_name": "Python 3",
   "language": "python",
   "name": "python3"
  },
  "language_info": {
   "codemirror_mode": {
    "name": "ipython",
    "version": 3
   },
   "file_extension": ".py",
   "mimetype": "text/x-python",
   "name": "python",
   "nbconvert_exporter": "python",
   "pygments_lexer": "ipython3",
   "version": "3.7.2"
  }
 },
 "nbformat": 4,
 "nbformat_minor": 2
}
