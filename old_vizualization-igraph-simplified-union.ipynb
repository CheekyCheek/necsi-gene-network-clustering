{
 "cells": [
  {
   "cell_type": "code",
   "execution_count": 1,
   "metadata": {},
   "outputs": [],
   "source": [
    "import pandas as pd\n",
    "import numpy as np\n",
    "import matplotlib as ml\n",
    "import matplotlib.pyplot as plt\n",
    "import igraph as ig\n",
    "import datetime"
   ]
  },
  {
   "cell_type": "code",
   "execution_count": 2,
   "metadata": {},
   "outputs": [
    {
     "name": "stdout",
     "output_type": "stream",
     "text": [
      "Here\n",
      "2019-01-16 15:19:14.336482\n"
     ]
    }
   ],
   "source": [
    "rawLinks = pd.read_csv('data/9606.protein.links.v10.5.txt', delim_whitespace=True)\n",
    "rawAlias = pd.read_csv('data/9606.protein.aliases.v10.5.txt', delimiter='\\t')\n",
    "print('Here')\n",
    "print(str(datetime.datetime.now()))"
   ]
  },
  {
   "cell_type": "code",
   "execution_count": 3,
   "metadata": {},
   "outputs": [
    {
     "name": "stdout",
     "output_type": "stream",
     "text": [
      "Here\n",
      "2019-01-16 15:19:15.520723\n"
     ]
    }
   ],
   "source": [
    "#build a map of proteinId in rawLinks to gene product names\n",
    "proteinIdToAlias = {}\n",
    "for val in list(zip(rawAlias.string_protein_id, rawAlias.alias)):\n",
    "    if not val[0] in proteinIdToAlias: #the alias file has lots of duplicates!\n",
    "        proteinIdToAlias[val[0]]=[val[1]]\n",
    "    else:\n",
    "        proteinIdToAlias[val[0]].append(val[1])\n",
    "        \n",
    "print('Here')\n",
    "print(str(datetime.datetime.now()))"
   ]
  },
  {
   "cell_type": "code",
   "execution_count": 4,
   "metadata": {},
   "outputs": [
    {
     "name": "stdout",
     "output_type": "stream",
     "text": [
      "Here\n",
      "2019-01-16 15:19:16.962307\n"
     ]
    }
   ],
   "source": [
    "#build the list of links mapped to gene product name\n",
    "links = list(zip(rawLinks.protein1, rawLinks.protein2))\n",
    "print('Here')\n",
    "print(str(datetime.datetime.now()))"
   ]
  },
  {
   "cell_type": "code",
   "execution_count": 5,
   "metadata": {},
   "outputs": [
    {
     "name": "stdout",
     "output_type": "stream",
     "text": [
      "Acceptable:  2575\n",
      "2019-01-16 15:19:16.979202\n",
      "Links:  263874\n",
      "2019-01-16 15:20:48.066933\n"
     ]
    }
   ],
   "source": [
    "#filter links where both in and out are in the dataset\n",
    "acceptableGeneSetB = set(pd.read_csv('Diff_1_2_01.txt', header=None)[0])\n",
    "acceptableGeneSetC = set(pd.read_csv('Diff_2_3_01.txt', header=None)[0])\n",
    "acceptableGeneSet = acceptableGeneSetB | acceptableGeneSetC\n",
    "\n",
    "print('Acceptable: ', len(acceptableGeneSet))\n",
    "print(str(datetime.datetime.now()))\n",
    "\n",
    "filteredLinks = []\n",
    "for link in links:\n",
    "    aliasesOfStart = proteinIdToAlias[link[0]]\n",
    "    aliasesOfEnd = proteinIdToAlias[link[1]]\n",
    "    \n",
    "    startIsAcceptable = not acceptableGeneSet.isdisjoint(aliasesOfStart)\n",
    "    endIsAcceptable = not acceptableGeneSet.isdisjoint(aliasesOfEnd)\n",
    "    \n",
    "    if startIsAcceptable and endIsAcceptable:\n",
    "        filteredLinks.append(link)\n",
    "        \n",
    "print('Links: ', len(filteredLinks))\n",
    "print(str(datetime.datetime.now()))"
   ]
  },
  {
   "cell_type": "code",
   "execution_count": 6,
   "metadata": {},
   "outputs": [
    {
     "name": "stdout",
     "output_type": "stream",
     "text": [
      "Nodes:  2399\n",
      "Red Count  698\n",
      "Blue Count  1701\n",
      "Links:  263874\n",
      "2019-01-16 15:20:48.164008\n"
     ]
    }
   ],
   "source": [
    "nodesDict = {}\n",
    "for link in filteredLinks:\n",
    "    nodesDict[link[0]] = 1\n",
    "    nodesDict[link[1]] = 1\n",
    "    \n",
    "nodes = list(nodesDict.keys())\n",
    "nodeColors = []\n",
    "nodeSizes = []\n",
    "redCnt = 0\n",
    "blueCnt = 0\n",
    "for node in nodes:\n",
    "    nodeSizes.append(60)\n",
    "    aliasesOfNode = proteinIdToAlias[node]\n",
    "    if not acceptableGeneSetB.isdisjoint(aliasesOfNode):\n",
    "        nodeColors.append('red')\n",
    "        redCnt+=1\n",
    "    else:\n",
    "        nodeColors.append('blue')\n",
    "        blueCnt+=1\n",
    "        \n",
    "print('Nodes: ', len(nodes))\n",
    "print('Red Count ', redCnt)\n",
    "print('Blue Count ', blueCnt)\n",
    "print('Links: ', len(filteredLinks))\n",
    "print(str(datetime.datetime.now()))"
   ]
  },
  {
   "cell_type": "code",
   "execution_count": 7,
   "metadata": {},
   "outputs": [
    {
     "name": "stdout",
     "output_type": "stream",
     "text": [
      "2019-01-16 15:20:55.667112\n"
     ]
    }
   ],
   "source": [
    "g = ig.Graph()\n",
    "g.add_vertices(nodes)\n",
    "g.add_edges(filteredLinks)\n",
    "g.vs[\"label\"] = g.vs[\"name\"]\n",
    "g.vs[\"color\"] = nodeColors\n",
    "g.vs[\"vertex_size\"] = nodeSizes\n",
    "layout = g.layout_lgl()\n",
    "#g.write_svg('graph.svg', layout = layout, width=25000, height=25000)\n",
    "print(str(datetime.datetime.now()))"
   ]
  },
  {
   "cell_type": "code",
   "execution_count": 8,
   "metadata": {},
   "outputs": [
    {
     "name": "stdout",
     "output_type": "stream",
     "text": [
      "start\n",
      "2019-01-16 15:20:55.672323\n",
      "2019-01-16 15:23:27.624395\n",
      "done -- open graph_lgl_simplified_union_01.png\n"
     ]
    }
   ],
   "source": [
    "print('start')\n",
    "print(str(datetime.datetime.now()))\n",
    "ig.plot(g, 'out/fullmap/graph_lgl_simplified_union_01.png', layout = layout, bbox = (30000, 30000), edge_color='#999999')\n",
    "print(str(datetime.datetime.now()))\n",
    "print('done -- open graph_lgl_simplified_union_01.png')"
   ]
  },
  {
   "cell_type": "code",
   "execution_count": null,
   "metadata": {},
   "outputs": [],
   "source": []
  }
 ],
 "metadata": {
  "kernelspec": {
   "display_name": "Python 3",
   "language": "python",
   "name": "python3"
  },
  "language_info": {
   "codemirror_mode": {
    "name": "ipython",
    "version": 3
   },
   "file_extension": ".py",
   "mimetype": "text/x-python",
   "name": "python",
   "nbconvert_exporter": "python",
   "pygments_lexer": "ipython3",
   "version": "3.7.2"
  }
 },
 "nbformat": 4,
 "nbformat_minor": 2
}
