{
 "cells": [
  {
   "cell_type": "markdown",
   "metadata": {},
   "source": [
    "This program analyses the breast cancer tumor dataset to find the gene products which are statistically different between relapse and non relapsing breast cancer\n",
    "\n",
    "At the end it applies machine learning to build a model which can be used to predict whether or not a cancer tumor will relapse based on the clustered expression levels of the gene products from step 1"
   ]
  },
  {
   "cell_type": "code",
   "execution_count": 1,
   "metadata": {},
   "outputs": [],
   "source": [
    "#import necessary libraries\n",
    "import pandas as pd\n",
    "import numpy as np\n",
    "import matplotlib.pyplot as plt\n",
    "import scipy.stats as stats"
   ]
  },
  {
   "cell_type": "code",
   "execution_count": 13,
   "metadata": {},
   "outputs": [],
   "source": [
    "def sanitizeDistantRelapseEvent(rawData):\n",
    "    noWords = rawData.replace('distant-relapse event: ','')\n",
    "    ret = int(noWords)\n",
    "    if ret != 0 and ret != 1:\n",
    "        print('Invalid value for distant-relapse event: ' + rawData)\n",
    "    return ret\n",
    "\n",
    "def sanitizeDistantRelapseFreeSurvival(rawData):\n",
    "    noWords = rawData.replace('distant-relapse free survival: ','')\n",
    "    return float(noWords)"
   ]
  },
  {
   "cell_type": "code",
   "execution_count": 37,
   "metadata": {},
   "outputs": [],
   "source": [
    "def findAllTumorIdsWithRelapseEvent(value, tumorIdToRelpaseEvent):\n",
    "    ret = [];\n",
    "    for k,v in tumorIdToRelpaseEvent.items():\n",
    "        if v == value:\n",
    "            ret.append(k)\n",
    "    return ret"
   ]
  },
  {
   "cell_type": "code",
   "execution_count": 4,
   "metadata": {},
   "outputs": [],
   "source": [
    "def constructPdfData(data, bins, cumulate):\n",
    "    ret = [];\n",
    "    numBins = len(bins)\n",
    "    binsRange = range(0,numBins)\n",
    "    count = len(data) #total number of tumors with this gene\n",
    "    #initalize the returned data with 0 counts in all bins\n",
    "    for i in binsRange:\n",
    "        ret.append(0)\n",
    "    \n",
    "    #go through the expressionData and bin it\n",
    "    for v in data:\n",
    "        for i in binsRange:\n",
    "            if i == 0:\n",
    "                if v < bins[i+1]: #anything lower then the second bin value is in the first bin\n",
    "                    ret[i] += 1\n",
    "            elif i == numBins - 1: #anything equal to or higher then the last bin value is in the last bin\n",
    "                if v >= bins[i]: \n",
    "                    ret[i] += 1\n",
    "            elif v >= bins[i] and v < bins[i+1]:\n",
    "                ret[i] += 1\n",
    "    \n",
    "    #now normalize it\n",
    "    for i in binsRange:\n",
    "        ret[i] = ret[i]/count\n",
    "        \n",
    "    #then cumulate it if we want to\n",
    "    if cumulate:\n",
    "        for i in range(1,numBins):\n",
    "            ret[i] = ret[i] + ret[i-1]\n",
    "        \n",
    "    return ret  "
   ]
  },
  {
   "cell_type": "code",
   "execution_count": 5,
   "metadata": {},
   "outputs": [],
   "source": [
    "def writeGeneListToFile(fname, geneList):\n",
    "    with open(fname, 'w') as f:\n",
    "        for item in geneList:\n",
    "            f.write(\"%s\\n\" % item)"
   ]
  },
  {
   "cell_type": "code",
   "execution_count": 6,
   "metadata": {},
   "outputs": [],
   "source": [
    "#this is the expression level rows are the genes, columns are the tumors\n",
    "rawExpressionData = pd.read_csv('data/raw_expression_data.csv', index_col=0)"
   ]
  },
  {
   "cell_type": "code",
   "execution_count": 7,
   "metadata": {},
   "outputs": [],
   "source": [
    "#this is the identification information for each tumor in each column \n",
    "#(contains ProbeId which allows us to identify the gene name)\n",
    "rawTumorIdent = pd.read_csv('data/raw_ident.csv', encoding = \"ISO-8859-1\")"
   ]
  },
  {
   "cell_type": "code",
   "execution_count": 8,
   "metadata": {},
   "outputs": [],
   "source": [
    "#Build dictionary which allows us to look up Gene by ProbeId\n",
    "searchKeyProbId = pd.read_csv('data/SearchKey_ProbeId.csv')\n",
    "numRows = searchKeyProbId['Search_key'].size\n",
    "probeIdToGene = {}\n",
    "for i in range(0,numRows):\n",
    "    probeIdToGene[searchKeyProbId['ProbeId'][i]] = searchKeyProbId['Search_key'][i]"
   ]
  },
  {
   "cell_type": "code",
   "execution_count": 34,
   "metadata": {},
   "outputs": [],
   "source": [
    "#Build a dictionary of tumorId to tumor grade\n",
    "tumorIdToRelpaseEvent = {}\n",
    "tumorIdToFreeSurvival = {}\n",
    "\n",
    "tumorRelapseRow = rawTumorIdent.values[14] #Row at index 14 contains the DistantRelapseEvent\n",
    "tumorFreeSurvivalRow = rawTumorIdent.values[15] #Row at index 14 contains the Free Survival\n",
    "\n",
    "tumorIdentRow = rawTumorIdent.values[35] #Row at index 35 contains the tumor identity\n",
    "numCols = tumorIdentRow.size\n",
    "\n",
    "for i in range(1,numCols):\n",
    "    tumorIdToRelpaseEvent[tumorIdentRow[i]] = sanitizeDistantRelapseEvent(tumorRelapseRow[i])\n",
    "    tumorIdToFreeSurvival[tumorIdentRow[i]] = sanitizeDistantRelapseFreeSurvival(tumorFreeSurvivalRow[i])"
   ]
  },
  {
   "cell_type": "code",
   "execution_count": 45,
   "metadata": {},
   "outputs": [],
   "source": [
    "#Build a dictionary of tumor relapse [0-1] where the values are the filtered rawExpressionData\n",
    "#where the survival of the tumor matches the key\n",
    "tumorsByRelapse = {}\n",
    "\n",
    "for i in range(0,2):\n",
    "    tumorsByRelapse[i] = rawExpressionData[findAllTumorIdsWithRelapseEvent(i, tumorIdToRelpaseEvent)]"
   ]
  },
  {
   "cell_type": "code",
   "execution_count": 44,
   "metadata": {},
   "outputs": [
    {
     "data": {
      "text/plain": [
       "([<matplotlib.axis.XTick at 0x129ec7710>,\n",
       "  <matplotlib.axis.XTick at 0x129eb3eb8>],\n",
       " <a list of 2 Text xticklabel objects>)"
      ]
     },
     "execution_count": 44,
     "metadata": {},
     "output_type": "execute_result"
    },
    {
     "data": {
      "image/png": "[encoded data removed]",
      "text/plain": [
       "<Figure size 432x288 with 1 Axes>"
      ]
     },
     "metadata": {
      "needs_background": "light"
     },
     "output_type": "display_data"
    }
   ],
   "source": [
    "#How many tumors do we have of each type\n",
    "counts = {k:len(v.columns) for (k,v) in tumorsByRelapse.items()}\n",
    "plt.bar(counts.keys(), counts.values())\n",
    "plt.xticks([0,1])"
   ]
  },
  {
   "cell_type": "code",
   "execution_count": 46,
   "metadata": {},
   "outputs": [
    {
     "data": {
      "text/plain": [
       "<matplotlib.legend.Legend at 0x129cce2b0>"
      ]
     },
     "execution_count": 46,
     "metadata": {},
     "output_type": "execute_result"
    },
    {
     "data": {
      "image/png": "[encoded data removed]",
      "text/plain": [
       "<Figure size 432x288 with 1 Axes>"
      ]
     },
     "metadata": {
      "needs_background": "light"
     },
     "output_type": "display_data"
    }
   ],
   "source": [
    "#distrubtion of expression level for a gene segemented by tumor type\n",
    "geneIdx = 956 #the gene we want to plot by its index\n",
    "geneIdent = probeIdToGene[rawExpressionData.iloc[geneIdx].name] #its actual name\n",
    "\n",
    "minVal = rawExpressionData.iloc[geneIdx].min()\n",
    "maxVal = rawExpressionData.iloc[geneIdx].max()\n",
    "\n",
    "bins = np.linspace(minVal, maxVal, 50)\n",
    "\n",
    "for i in range(0,2):\n",
    "    plt.plot(bins, constructPdfData(tumorsByRelapse[i].iloc[geneIdx], bins, True), label='Tumor Relapse ' + str(i))\n",
    "\n",
    "plt.title(str(geneIdent) + ' Expression Level by Tumor Relapse')\n",
    "plt.ylabel('Probability that gene product is expressed')\n",
    "plt.xlabel('Gene Product Expression Level')\n",
    "plt.legend()"
   ]
  },
  {
   "cell_type": "code",
   "execution_count": 90,
   "metadata": {},
   "outputs": [
    {
     "name": "stdout",
     "output_type": "stream",
     "text": [
      "Between tumor replapse types there are  1433  genes products which are expressed differently\n"
     ]
    }
   ],
   "source": [
    "#test for differences in gene expression by gene by survival\n",
    "alpha = 0.01\n",
    "numGenes = len(tumorsByRelapse[0])\n",
    "genesWhichAreDifferent = []\n",
    "        \n",
    "for geneIdx in range(0,numGenes):             \n",
    "    pvalue = stats.ttest_ind(tumorsByRelapse[0].iloc[geneIdx], tumorsByRelapse[1].iloc[geneIdx], equal_var = False).pvalue\n",
    "    if pvalue < alpha:\n",
    "        geneIdent = probeIdToGene[rawExpressionData.iloc[geneIdx].name] #its actual name\n",
    "        genesWhichAreDifferent.append(geneIdent)\n",
    "\n",
    "print('Between tumor replapse types there are ', len(genesWhichAreDifferent), ' genes products which are expressed differently')"
   ]
  },
  {
   "cell_type": "code",
   "execution_count": 91,
   "metadata": {},
   "outputs": [
    {
     "name": "stdout",
     "output_type": "stream",
     "text": [
      "Wrote out all the gene products which are statistically significantly different between relapse types\n"
     ]
    }
   ],
   "source": [
    "writeGeneListToFile('Diff_Relapse_01.txt', genesWhichAreDifferent)\n",
    "\n",
    "print('Wrote out all the gene products which are statistically significantly different between relapse types')"
   ]
  },
  {
   "cell_type": "code",
   "execution_count": 92,
   "metadata": {},
   "outputs": [
    {
     "name": "stdout",
     "output_type": "stream",
     "text": [
      "Sample Data Len  216\n",
      "Feature Set Size  1694\n"
     ]
    }
   ],
   "source": [
    "#go through the gene expressions and limit from all gene products to just those which are special\n",
    "sampleData = []\n",
    "tumorTypes = []\n",
    "\n",
    "acceptableGeneSet = set(genesWhichAreDifferent)\n",
    "\n",
    "for relapse in tumorsByRelapse:\n",
    "    for tumor in tumorsByRelapse[relapse]:\n",
    "        expressionLevels = []\n",
    "        for probeId, expressionLevel in tumorsByRelapse[relapse][tumor].iteritems():\n",
    "            if probeIdToGene[probeId] in acceptableGeneSet:\n",
    "                expressionLevels.append(expressionLevel)\n",
    "\n",
    "        tumorTypes.append(relapse)\n",
    "        sampleData.append(expressionLevels)\n",
    "            \n",
    "print('Sample Data Len ', len(sampleData))\n",
    "print('Feature Set Size ', len(sampleData[0]))"
   ]
  },
  {
   "cell_type": "code",
   "execution_count": 93,
   "metadata": {},
   "outputs": [
    {
     "name": "stdout",
     "output_type": "stream",
     "text": [
      "Starting Sample Size  216\n",
      "Starting Feature Size  1694\n",
      "\n",
      "Agglo Params\n",
      "{'affinity': 'euclidean', 'compute_full_tree': 'auto', 'connectivity': None, 'linkage': 'ward', 'memory': None, 'n_clusters': 6, 'pooling_func': <function mean at 0x11a899598>}\n",
      "\n",
      "Built Data Set...\n",
      "Sample Size  216\n",
      "Feature Size  6\n",
      "Training Size  172\n",
      "Testing Size  172\n",
      "All paramters used to generate the model\n",
      "{'bootstrap': True, 'class_weight': None, 'criterion': 'gini', 'max_depth': None, 'max_features': 'auto', 'max_leaf_nodes': None, 'min_impurity_decrease': 0.0, 'min_impurity_split': None, 'min_samples_leaf': 1, 'min_samples_split': 2, 'min_weight_fraction_leaf': 0.0, 'n_estimators': 100, 'n_jobs': None, 'oob_score': False, 'random_state': 9, 'verbose': 0, 'warm_start': False}\n",
      "\n",
      "Training...\n",
      "Confusion Matrix\n",
      "[[27  5]\n",
      " [ 4  8]]\n",
      "Score for the classifier 0.7954545454545454\n",
      "Mean Square Error  0.20454545454545456\n",
      "How important are each of our cluters to the model\n",
      "[0.20817518 0.17189731 0.15812545 0.10616346 0.18040609 0.1752325 ]\n"
     ]
    }
   ],
   "source": [
    "from sklearn import model_selection\n",
    "\n",
    "from sklearn.cluster import FeatureAgglomeration\n",
    "\n",
    "print('Starting Sample Size ', len(sampleData))\n",
    "print('Starting Feature Size ', len(sampleData[0]))\n",
    "\n",
    "#cluster the special genes into 6 clusters\n",
    "agglo = FeatureAgglomeration(n_clusters=6)\n",
    "agglo.fit(sampleData)\n",
    "sampleDataReducedF = agglo.transform(sampleData)\n",
    "\n",
    "print()\n",
    "print('Agglo Params')\n",
    "print(agglo.get_params())\n",
    "print()\n",
    "\n",
    "#build data set for testing and training\n",
    "validationSize = 0.20\n",
    "seed = 9\n",
    "X_train, X_test, y_train, y_test = model_selection.train_test_split(sampleDataReducedF, \n",
    "                                                                    tumorTypes, \n",
    "                                                                    test_size=validationSize, \n",
    "                                                                    random_state=seed)\n",
    "print('Built Data Set...')\n",
    "print('Sample Size ', len(sampleDataReducedF))\n",
    "print('Feature Size ', len(sampleDataReducedF[0]))\n",
    "print('Training Size ', len(X_train))\n",
    "print('Testing Size ', len(y_train))\n",
    "\n",
    "#now we try to classify the unclassified tumors \n",
    "from sklearn.metrics import confusion_matrix\n",
    "from sklearn.metrics import mean_squared_error\n",
    "\n",
    "from sklearn.neural_network import MLPClassifier\n",
    "#this is to rescale the data before classification if necessary\n",
    "#from sklearn.preprocessing import StandardScaler\n",
    "\n",
    "#scaler = StandardScaler()  \n",
    "# Don't cheat - fit only on training data\n",
    "\n",
    "#scaler.fit(X_train)  \n",
    "#X_train = scaler.transform(X_train)  \n",
    "\n",
    "# apply same transformation to test data\n",
    "#X_test = scaler.transform(X_test)\n",
    "#clf = MLPClassifier(solver='lbfgs', alpha=alpha, hidden_layer_sizes=(1024, 256), random_state=1)\n",
    "\n",
    "#import sklearn.naive_bayes as naive_bayes\n",
    "#import sklearn.ensemble as ensemble #RandomForestClassifier\n",
    "\n",
    "clf = ensemble.RandomForestClassifier(n_estimators=100, criterion='gini', random_state=seed)\n",
    "#clf = naive_bayes.GaussianNB()\n",
    "\n",
    "params = clf.get_params()\n",
    "print('All paramters used to generate the model')\n",
    "print(params)\n",
    "print('')\n",
    "\n",
    "print('Training...')\n",
    "clf.fit(X_train, y_train)\n",
    "\n",
    "yHat = clf.predict(X_test)\n",
    "\n",
    "print('Confusion Matrix')\n",
    "print(confusion_matrix(y_test, yHat))\n",
    "\n",
    "acc = clf.score(X_test, y_test)\n",
    "print('Score for the classifier', acc)\n",
    "\n",
    "mse = mean_squared_error(y_test, yHat)\n",
    "print('Mean Square Error ', mse)\n",
    "\n",
    "feature_importances = clf.feature_importances_\n",
    "print('How important are each of our cluters to the model')\n",
    "print(feature_importances)"
   ]
  },
  {
   "cell_type": "code",
   "execution_count": null,
   "metadata": {},
   "outputs": [],
   "source": []
  }
 ],
 "metadata": {
  "kernelspec": {
   "display_name": "Python 3",
   "language": "python",
   "name": "python3"
  },
  "language_info": {
   "codemirror_mode": {
    "name": "ipython",
    "version": 3
   },
   "file_extension": ".py",
   "mimetype": "text/x-python",
   "name": "python",
   "nbconvert_exporter": "python",
   "pygments_lexer": "ipython3",
   "version": "3.7.2"
  }
 },
 "nbformat": 4,
 "nbformat_minor": 2
}
