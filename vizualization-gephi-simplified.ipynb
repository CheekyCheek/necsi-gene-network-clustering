{
 "cells": [
  {
   "cell_type": "code",
   "execution_count": 1,
   "metadata": {},
   "outputs": [],
   "source": [
    "import networkx as nx\n",
    "import pandas as pd\n",
    "import numpy as np\n",
    "import matplotlib as ml\n",
    "import matplotlib.pyplot as plt\n",
    "import datetime"
   ]
  },
  {
   "cell_type": "code",
   "execution_count": 2,
   "metadata": {},
   "outputs": [
    {
     "name": "stdout",
     "output_type": "stream",
     "text": [
      "Here\n",
      "2019-01-16 20:26:08.951184\n"
     ]
    }
   ],
   "source": [
    "rawLinks = pd.read_csv('data/9606.protein.links.v10.5.txt', delim_whitespace=True)\n",
    "rawAlias = pd.read_csv('data/9606.protein.aliases.v10.5.txt', delimiter='\\t')\n",
    "print('Here')\n",
    "print(str(datetime.datetime.now()))"
   ]
  },
  {
   "cell_type": "code",
   "execution_count": 3,
   "metadata": {},
   "outputs": [
    {
     "name": "stdout",
     "output_type": "stream",
     "text": [
      "Here\n",
      "2019-01-16 20:26:10.071665\n"
     ]
    }
   ],
   "source": [
    "#build a map of proteinId in rawLinks to gene product names\n",
    "proteinIdToAlias = {}\n",
    "for val in list(zip(rawAlias.string_protein_id, rawAlias.alias)):\n",
    "    if not val[0] in proteinIdToAlias: #the alias file has lots of duplicates!\n",
    "        proteinIdToAlias[val[0]]=[val[1]]\n",
    "    else:\n",
    "        proteinIdToAlias[val[0]].append(val[1])\n",
    "        \n",
    "print('Here')\n",
    "print(str(datetime.datetime.now()))"
   ]
  },
  {
   "cell_type": "code",
   "execution_count": 4,
   "metadata": {},
   "outputs": [
    {
     "name": "stdout",
     "output_type": "stream",
     "text": [
      "Here\n",
      "2019-01-16 20:26:12.017748\n"
     ]
    }
   ],
   "source": [
    "#build the list of links mapped to gene product name\n",
    "links = list(zip(rawLinks.protein1, rawLinks.protein2, rawLinks.combined_score))\n",
    "print('Here')\n",
    "print(str(datetime.datetime.now()))"
   ]
  },
  {
   "cell_type": "code",
   "execution_count": 5,
   "metadata": {},
   "outputs": [
    {
     "name": "stdout",
     "output_type": "stream",
     "text": [
      "1986\n",
      "2019-01-16 20:26:12.033200\n",
      "162118\n",
      "2019-01-16 20:27:42.917267\n"
     ]
    }
   ],
   "source": [
    "#filter links where both in and out are in the dataset\n",
    "acceptableGeneList = pd.read_csv('Diff_2_3_01.txt', header=None)\n",
    "acceptableGeneSet = set(acceptableGeneList[0])\n",
    "\n",
    "print(len(acceptableGeneList))\n",
    "print(str(datetime.datetime.now()))\n",
    "\n",
    "filteredLinks = []\n",
    "for link in links:\n",
    "    aliasesOfStart = proteinIdToAlias[link[0]]\n",
    "    aliasesOfEnd = proteinIdToAlias[link[1]]\n",
    "    \n",
    "    startIsAcceptable = not acceptableGeneSet.isdisjoint(aliasesOfStart)\n",
    "    endIsAcceptable = not acceptableGeneSet.isdisjoint(aliasesOfEnd)\n",
    "    \n",
    "    if startIsAcceptable and endIsAcceptable:\n",
    "        filteredLinks.append(link)\n",
    "        \n",
    "print(len(filteredLinks))\n",
    "print(str(datetime.datetime.now()))"
   ]
  },
  {
   "cell_type": "code",
   "execution_count": 6,
   "metadata": {},
   "outputs": [
    {
     "name": "stdout",
     "output_type": "stream",
     "text": [
      "2019-01-16 20:27:42.922522\n",
      "Now open out/gephi/grid_2_3.gml\n",
      "2019-01-16 20:27:43.997209\n"
     ]
    }
   ],
   "source": [
    "print(str(datetime.datetime.now()))\n",
    "G = nx.DiGraph()\n",
    "G.add_weighted_edges_from(filteredLinks)\n",
    "nx.write_gml(G, \"out/gephi/grid_2_3.gml\")\n",
    "print(\"Now open out/gephi/grid_2_3.gml\")\n",
    "print(str(datetime.datetime.now()))"
   ]
  },
  {
   "cell_type": "code",
   "execution_count": 7,
   "metadata": {},
   "outputs": [
    {
     "data": {
      "text/plain": [
       "(array([84992., 26670., 13832.,  8838.,  5878.,  4018.,  2934.,  2800.,\n",
       "         6504.,  5652.]),\n",
       " array([150. , 234.9, 319.8, 404.7, 489.6, 574.5, 659.4, 744.3, 829.2,\n",
       "        914.1, 999. ]),\n",
       " <a list of 10 Patch objects>)"
      ]
     },
     "execution_count": 7,
     "metadata": {},
     "output_type": "execute_result"
    },
    {
     "data": {
      "image/png": "[encoded data removed]",
      "text/plain": [
       "<Figure size 432x288 with 1 Axes>"
      ]
     },
     "metadata": {
      "needs_background": "light"
     },
     "output_type": "display_data"
    }
   ],
   "source": [
    "weights = []\n",
    "for link in filteredLinks:\n",
    "    weights.append(link[2])\n",
    "    \n",
    "plt.hist(weights)"
   ]
  },
  {
   "cell_type": "code",
   "execution_count": null,
   "metadata": {},
   "outputs": [],
   "source": []
  }
 ],
 "metadata": {
  "kernelspec": {
   "display_name": "Python 3",
   "language": "python",
   "name": "python3"
  },
  "language_info": {
   "codemirror_mode": {
    "name": "ipython",
    "version": 3
   },
   "file_extension": ".py",
   "mimetype": "text/x-python",
   "name": "python",
   "nbconvert_exporter": "python",
   "pygments_lexer": "ipython3",
   "version": "3.7.2"
  }
 },
 "nbformat": 4,
 "nbformat_minor": 2
}
