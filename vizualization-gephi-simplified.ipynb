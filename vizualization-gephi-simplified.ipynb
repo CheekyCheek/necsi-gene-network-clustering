{
 "cells": [
  {
   "cell_type": "code",
   "execution_count": 1,
   "metadata": {},
   "outputs": [],
   "source": [
    "import networkx as nx\n",
    "import pandas as pd\n",
    "import numpy as np\n",
    "import matplotlib as ml\n",
    "import matplotlib.pyplot as plt\n",
    "import datetime\n",
    "\n",
    "file = 'Diff_Relapse_01'"
   ]
  },
  {
   "cell_type": "code",
   "execution_count": 2,
   "metadata": {},
   "outputs": [
    {
     "name": "stdout",
     "output_type": "stream",
     "text": [
      "Here\n",
      "2019-01-18 18:55:20.332398\n"
     ]
    }
   ],
   "source": [
    "rawLinks = pd.read_csv('data/9606.protein.links.v10.5.txt', delim_whitespace=True)\n",
    "rawAlias = pd.read_csv('data/9606.protein.aliases.v10.5.txt', delimiter='\\t')\n",
    "print('Here')\n",
    "print(str(datetime.datetime.now()))"
   ]
  },
  {
   "cell_type": "code",
   "execution_count": 3,
   "metadata": {},
   "outputs": [
    {
     "name": "stdout",
     "output_type": "stream",
     "text": [
      "Here\n",
      "There are  50394  aliases which point to multiple protein ids\n",
      "2019-01-18 18:55:24.326894\n"
     ]
    }
   ],
   "source": [
    "#build a map of proteinId in rawLinks to gene product names\n",
    "proteinIdToAlias = {}\n",
    "aliasToProteinId = {}\n",
    "duplicatedAliases = []\n",
    "for val in list(zip(rawAlias.string_protein_id, rawAlias.alias)):\n",
    "    if val[1] in aliasToProteinId:\n",
    "        duplicatedAliases.append(str(val[1]))\n",
    "        aliasToProteinId[val[1]].append(val[0])\n",
    "    else:\n",
    "        aliasToProteinId[val[1]] = [val[0]]\n",
    "    \n",
    "    if not val[0] in proteinIdToAlias: #the alias file has lots of duplicates!\n",
    "        proteinIdToAlias[val[0]]=[val[1]]\n",
    "    else:\n",
    "        proteinIdToAlias[val[0]].append(val[1])\n",
    "        \n",
    "print('Here')\n",
    "print('There are ', len(duplicatedAliases), ' aliases which point to multiple protein ids')\n",
    "print(str(datetime.datetime.now()))"
   ]
  },
  {
   "cell_type": "code",
   "execution_count": 4,
   "metadata": {},
   "outputs": [
    {
     "name": "stdout",
     "output_type": "stream",
     "text": [
      "Here\n",
      "2019-01-18 18:55:34.440047\n"
     ]
    }
   ],
   "source": [
    "#build the list of links mapped to gene product name\n",
    "links = list(zip(rawLinks.protein1, rawLinks.protein2, rawLinks.combined_score))\n",
    "links = [list(elem) for elem in links]\n",
    "print('Here')\n",
    "print(str(datetime.datetime.now()))"
   ]
  },
  {
   "cell_type": "code",
   "execution_count": 5,
   "metadata": {},
   "outputs": [
    {
     "name": "stdout",
     "output_type": "stream",
     "text": [
      "2019-01-18 18:55:34.451984\n",
      "There are  1433  acceptable gene products\n",
      "Determining gene products which have multiple protein ids\n",
      "There are  91  aliases which have multiple protein ids\n",
      "There are  115468  filtered links\n",
      "2019-01-18 18:57:00.602287\n"
     ]
    }
   ],
   "source": [
    "#filter links where both in and out are in the dataset\n",
    "acceptableGeneList = pd.read_csv(file + '.txt', header=None)\n",
    "acceptableGeneSet = set(acceptableGeneList[0])\n",
    "\n",
    "print(str(datetime.datetime.now()))\n",
    "print('There are ', len(acceptableGeneList), ' acceptable gene products')\n",
    "\n",
    "print('Determining gene products which have multiple protein ids')\n",
    "problematic = list(acceptableGeneSet.intersection(duplicatedAliases))\n",
    "print('There are ', len(problematic), ' aliases which have multiple protein ids');\n",
    "\n",
    "filteredLinks = []\n",
    "for link in links:\n",
    "    aliasesOfStart = proteinIdToAlias[link[0]]\n",
    "    aliasesOfEnd = proteinIdToAlias[link[1]]\n",
    "    \n",
    "    startIsAcceptable = not acceptableGeneSet.isdisjoint(aliasesOfStart)\n",
    "    endIsAcceptable = not acceptableGeneSet.isdisjoint(aliasesOfEnd)\n",
    "    \n",
    "    if startIsAcceptable and endIsAcceptable:\n",
    "        filteredLinks.append(link)\n",
    "        \n",
    "print('There are ', len(filteredLinks), ' filtered links')\n",
    "print(str(datetime.datetime.now()))"
   ]
  },
  {
   "cell_type": "code",
   "execution_count": 6,
   "metadata": {},
   "outputs": [
    {
     "name": "stdout",
     "output_type": "stream",
     "text": [
      "Transform the filtered links...\n",
      "2019-01-18 18:57:00.608970\n",
      "Done...\n",
      "2019-01-18 18:57:40.432895\n"
     ]
    }
   ],
   "source": [
    "#transform filtered links to not use protein ids but rather aliases (or a combination)\n",
    "print('Transform the filtered links...')\n",
    "print(str(datetime.datetime.now()))\n",
    "for geneProduct in acceptableGeneSet:\n",
    "    if not geneProduct in aliasToProteinId:\n",
    "        continue\n",
    "        \n",
    "    proteinIds = aliasToProteinId[geneProduct]\n",
    "    for proteinId in proteinIds:\n",
    "        for link in filteredLinks:\n",
    "            if link[0] == proteinId:\n",
    "                link[0] = geneProduct\n",
    "            \n",
    "            if link[1] == proteinId:\n",
    "                link[1] = geneProduct\n",
    "\n",
    "print('Done...')\n",
    "print(str(datetime.datetime.now()))"
   ]
  },
  {
   "cell_type": "code",
   "execution_count": 7,
   "metadata": {},
   "outputs": [
    {
     "name": "stdout",
     "output_type": "stream",
     "text": [
      "2019-01-18 18:57:40.437991\n",
      "Now open out/gephi/grid_Diff_Relapse_01.gml\n",
      "2019-01-18 18:57:41.075862\n"
     ]
    }
   ],
   "source": [
    "print(str(datetime.datetime.now()))\n",
    "G = nx.DiGraph()\n",
    "G.add_weighted_edges_from(filteredLinks)\n",
    "nx.write_gml(G, 'out/gephi/grid_'+ file + '.gml')\n",
    "print('Now open out/gephi/grid_'+ file + '.gml')\n",
    "print(str(datetime.datetime.now()))"
   ]
  },
  {
   "cell_type": "code",
   "execution_count": 8,
   "metadata": {},
   "outputs": [
    {
     "data": {
      "text/plain": [
       "(array([58036., 18724.,  9704.,  6766.,  4502.,  3394.,  2326.,  2474.,\n",
       "         4824.,  4718.]),\n",
       " array([150. , 234.9, 319.8, 404.7, 489.6, 574.5, 659.4, 744.3, 829.2,\n",
       "        914.1, 999. ]),\n",
       " <a list of 10 Patch objects>)"
      ]
     },
     "execution_count": 8,
     "metadata": {},
     "output_type": "execute_result"
    },
    {
     "data": {
      "image/png": "[encoded data removed]",
      "text/plain": [
       "<Figure size 432x288 with 1 Axes>"
      ]
     },
     "metadata": {
      "needs_background": "light"
     },
     "output_type": "display_data"
    }
   ],
   "source": [
    "weights = []\n",
    "for link in filteredLinks:\n",
    "    weights.append(link[2])\n",
    "    \n",
    "plt.hist(weights)"
   ]
  },
  {
   "cell_type": "code",
   "execution_count": null,
   "metadata": {},
   "outputs": [],
   "source": []
  }
 ],
 "metadata": {
  "kernelspec": {
   "display_name": "Python 3",
   "language": "python",
   "name": "python3"
  },
  "language_info": {
   "codemirror_mode": {
    "name": "ipython",
    "version": 3
   },
   "file_extension": ".py",
   "mimetype": "text/x-python",
   "name": "python",
   "nbconvert_exporter": "python",
   "pygments_lexer": "ipython3",
   "version": "3.7.2"
  }
 },
 "nbformat": 4,
 "nbformat_minor": 2
}
