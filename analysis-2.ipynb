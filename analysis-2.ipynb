{
 "cells": [
  {
   "cell_type": "code",
   "execution_count": 1,
   "metadata": {},
   "outputs": [],
   "source": [
    "#import necessary libraries\n",
    "import pandas as pd\n",
    "import numpy as np\n",
    "import matplotlib.pyplot as plt\n",
    "import scipy.stats as stats\n",
    "import datetime"
   ]
  },
  {
   "cell_type": "code",
   "execution_count": 18,
   "metadata": {},
   "outputs": [],
   "source": [
    "def constructPdfData(data, bins, cumulate):\n",
    "    ret = [];\n",
    "    numBins = len(bins)\n",
    "    binsRange = range(0,numBins)\n",
    "    count = len(data) #total number of tumors with this gene\n",
    "    #initalize the returned data with 0 counts in all bins\n",
    "    for i in binsRange:\n",
    "        ret.append(0)\n",
    "    \n",
    "    #go through the expressionData and bin it\n",
    "    for v in data:\n",
    "        for i in binsRange:\n",
    "            if i == 0:\n",
    "                if v < bins[i+1]: #anything lower then the second bin value is in the first bin\n",
    "                    ret[i] += 1\n",
    "            elif i == numBins - 1: #anything equal to or higher then the last bin value is in the last bin\n",
    "                if v >= bins[i]: \n",
    "                    ret[i] += 1\n",
    "            elif v >= bins[i] and v < bins[i+1]:\n",
    "                ret[i] += 1\n",
    "    \n",
    "    #now normalize it\n",
    "    for i in binsRange:\n",
    "        ret[i] = ret[i]/count\n",
    "        \n",
    "    #then cumulate it if we want to\n",
    "    if cumulate:\n",
    "        for i in range(1,numBins):\n",
    "            ret[i] = ret[i] + ret[i-1]\n",
    "        \n",
    "    return ret "
   ]
  },
  {
   "cell_type": "code",
   "execution_count": 2,
   "metadata": {},
   "outputs": [
    {
     "name": "stdout",
     "output_type": "stream",
     "text": [
      "Here\n",
      "2019-01-16 16:24:32.694357\n"
     ]
    }
   ],
   "source": [
    "rawAlias = pd.read_csv('data/9606.protein.aliases.v10.5.txt', delimiter='\\t')\n",
    "specialGenesProducts = set(pd.read_csv('Diff_1_3_01.txt', header=None)[0])\n",
    "geneProdDist = pd.read_csv('out/fullmap/sortedbydegree.txt', delimiter='\\t', header=None)\n",
    "\n",
    "#build a map of aliases to protein_ids\n",
    "proteinIdToAlias = {}\n",
    "aliasToProteinId = {}\n",
    "for val in list(zip(rawAlias.string_protein_id, rawAlias.alias)):\n",
    "    aliasToProteinId[val[1]] = val[0]\n",
    "    if not val[0] in proteinIdToAlias: #the alias file has lots of duplicates!\n",
    "        proteinIdToAlias[val[0]]=[val[1]]\n",
    "    else:\n",
    "        proteinIdToAlias[val[0]].append(val[1])\n",
    "        \n",
    "print(str(datetime.datetime.now()))"
   ]
  },
  {
   "cell_type": "code",
   "execution_count": 34,
   "metadata": {},
   "outputs": [],
   "source": [
    "specialGeneProdDist = []\n",
    "specialGeneProdVals = []\n",
    "for item in geneProdDist.values:\n",
    "    aliasesForItem = proteinIdToAlias[item[1]]\n",
    "    isSpecial = not specialGenesProducts.isdisjoint(aliasesForItem)\n",
    "    if isSpecial:\n",
    "        specialGeneProdVals.append(item[0])\n",
    "        specialGeneProdDist.append(item)"
   ]
  },
  {
   "cell_type": "code",
   "execution_count": 52,
   "metadata": {},
   "outputs": [
    {
     "data": {
      "text/plain": [
       "<matplotlib.legend.Legend at 0x1317adc88>"
      ]
     },
     "execution_count": 52,
     "metadata": {},
     "output_type": "execute_result"
    },
    {
     "data": {
      "image/png": "[encoded data removed]",
      "text/plain": [
       "<Figure size 432x288 with 1 Axes>"
      ]
     },
     "metadata": {
      "needs_background": "light"
     },
     "output_type": "display_data"
    }
   ],
   "source": [
    "minVal = geneProdDist[0].min()\n",
    "maxVal = geneProdDist[0].max()\n",
    "bins = np.linspace(minVal, maxVal, 50)\n",
    "\n",
    "plt.plot(bins, constructPdfData(geneProdDist[0], bins, False), label='Gene Prod Dist')\n",
    "plt.plot(bins, constructPdfData(specialGeneProdVals, bins, False), label='Special Gene Prod Dist')\n",
    "plt.title('Cum. Distribution Function of Degree Distribution')\n",
    "plt.xscale('log')\n",
    "plt.yscale('log')\n",
    "plt.legend()"
   ]
  },
  {
   "cell_type": "code",
   "execution_count": 49,
   "metadata": {},
   "outputs": [
    {
     "name": "stdout",
     "output_type": "stream",
     "text": [
      "Done... Wrote out the 5 gene products with the highest degree to out/fullmap/high_degree_significant_genes.txt\n",
      "2019-01-16 17:15:49.748532\n"
     ]
    }
   ],
   "source": [
    "with open('out/fullmap/high_degree_significant_genes.txt', 'w') as f:\n",
    "    for item in specialGeneProdDist[0:5]:\n",
    "        f.write(\"%s\\n\" % item[1])\n",
    "        \n",
    "print('Done... Wrote out the 5 gene products with the highest degree to out/fullmap/high_degree_significant_genes.txt')\n",
    "print(str(datetime.datetime.now()))"
   ]
  },
  {
   "cell_type": "code",
   "execution_count": null,
   "metadata": {},
   "outputs": [],
   "source": []
  }
 ],
 "metadata": {
  "kernelspec": {
   "display_name": "Python 3",
   "language": "python",
   "name": "python3"
  },
  "language_info": {
   "codemirror_mode": {
    "name": "ipython",
    "version": 3
   },
   "file_extension": ".py",
   "mimetype": "text/x-python",
   "name": "python",
   "nbconvert_exporter": "python",
   "pygments_lexer": "ipython3",
   "version": "3.7.2"
  }
 },
 "nbformat": 4,
 "nbformat_minor": 2
}
