{
 "cells": [
  {
   "cell_type": "markdown",
   "metadata": {},
   "source": [
    "This program analyzes the network and generates a comparative historgram of the degree distribution for the entire network vs the subnetwork of interest and shows that we have a scale free network in both cases"
   ]
  },
  {
   "cell_type": "code",
   "execution_count": 1,
   "metadata": {},
   "outputs": [],
   "source": [
    "import pandas as pd\n",
    "import numpy as np\n",
    "import matplotlib as ml\n",
    "import matplotlib.pyplot as plt\n",
    "import igraph as ig\n",
    "import datetime"
   ]
  },
  {
   "cell_type": "code",
   "execution_count": 2,
   "metadata": {},
   "outputs": [],
   "source": [
    "def constructPdfData(data, bins, cumulate):\n",
    "    ret = [];\n",
    "    numBins = len(bins)\n",
    "    binsRange = range(0,numBins)\n",
    "    count = len(data) #total number of tumors with this gene\n",
    "    #initalize the returned data with 0 counts in all bins\n",
    "    for i in binsRange:\n",
    "        ret.append(0)\n",
    "    \n",
    "    #go through the expressionData and bin it\n",
    "    for v in data:\n",
    "        for i in binsRange:\n",
    "            if i == 0:\n",
    "                if v < bins[i+1]: #anything lower then the second bin value is in the first bin\n",
    "                    ret[i] += 1\n",
    "            elif i == numBins - 1: #anything equal to or higher then the last bin value is in the last bin\n",
    "                if v >= bins[i]: \n",
    "                    ret[i] += 1\n",
    "            elif v >= bins[i] and v < bins[i+1]:\n",
    "                ret[i] += 1\n",
    "    \n",
    "    #now normalize it\n",
    "    for i in binsRange:\n",
    "        ret[i] = ret[i]/count\n",
    "        \n",
    "    #then cumulate it if we want to\n",
    "    if cumulate:\n",
    "        for i in range(1,numBins):\n",
    "            ret[i] = ret[i] + ret[i-1]\n",
    "        \n",
    "    return ret "
   ]
  },
  {
   "cell_type": "code",
   "execution_count": 3,
   "metadata": {},
   "outputs": [
    {
     "name": "stdout",
     "output_type": "stream",
     "text": [
      "Start  2019-01-16 22:21:20.082187\n",
      "Files are read in  2019-01-16 22:21:27.720038\n"
     ]
    }
   ],
   "source": [
    "print('Start ', str(datetime.datetime.now()))\n",
    "rawLinks = pd.read_csv('data/9606.protein.links.v10.5.txt', delim_whitespace=True)\n",
    "rawAlias = pd.read_csv('data/9606.protein.aliases.v10.5.txt', delimiter='\\t')\n",
    "print('Files are read in ', str(datetime.datetime.now()))"
   ]
  },
  {
   "cell_type": "code",
   "execution_count": 4,
   "metadata": {},
   "outputs": [
    {
     "name": "stdout",
     "output_type": "stream",
     "text": [
      "Nodes and links are made  2019-01-16 22:21:31.057294\n",
      "Nodes  19576\n"
     ]
    }
   ],
   "source": [
    "links = list(zip(rawLinks.protein1, rawLinks.protein2))\n",
    "nodes = pd.unique(rawLinks[['protein1', 'protein2']].values.ravel('K'))\n",
    "edgeWeights = rawLinks.combined_score;\n",
    "print('Nodes and links are made ', str(datetime.datetime.now()))\n",
    "print('Nodes ', len(nodes))\n",
    "print('Links ', len(links))"
   ]
  },
  {
   "cell_type": "code",
   "execution_count": 5,
   "metadata": {},
   "outputs": [
    {
     "name": "stdout",
     "output_type": "stream",
     "text": [
      "Graph Strx is built  2019-01-16 22:21:37.299531\n"
     ]
    }
   ],
   "source": [
    "g = ig.Graph()\n",
    "g.add_vertices(nodes)\n",
    "g.add_edges(links)\n",
    "g.vs[\"label\"] = g.vs[\"name\"]\n",
    "print('Graph Strx is built ', str(datetime.datetime.now()))"
   ]
  },
  {
   "cell_type": "code",
   "execution_count": 6,
   "metadata": {},
   "outputs": [
    {
     "name": "stdout",
     "output_type": "stream",
     "text": [
      "done\n"
     ]
    }
   ],
   "source": [
    "#plot a full diagram on the entire network.... don't do this\n",
    "if False:\n",
    "    print(str(datetime.datetime.now()))\n",
    "    layout = g.layout_drl(weights=edgeWeights)\n",
    "    #g.write_svg('graph.svg', layout = layout, width=25000, height=25000)\n",
    "    print(str(datetime.datetime.now()))\n",
    "    ig.plot(g, 'graph.png', layout = layout, bbox = (30000, 30000))\n",
    "    print(str(datetime.datetime.now()))\n",
    "    print('done -- open graph.png')\n",
    "print('done')"
   ]
  },
  {
   "cell_type": "code",
   "execution_count": 7,
   "metadata": {},
   "outputs": [
    {
     "name": "stdout",
     "output_type": "stream",
     "text": [
      "Built maps to identify proteins etc\n",
      "2019-01-16 22:21:39.483832\n"
     ]
    }
   ],
   "source": [
    "#load list of gene products we want to compare \n",
    "specialGenesProducts = set(pd.read_csv('Diff_1_3_01.txt', header=None)[0])\n",
    "\n",
    "#build a map of aliases to protein_ids\n",
    "proteinIdToAlias = {}\n",
    "aliasToProteinId = {}\n",
    "for val in list(zip(rawAlias.string_protein_id, rawAlias.alias)):\n",
    "    aliasToProteinId[val[1]] = val[0]\n",
    "    if not val[0] in proteinIdToAlias: #the alias file has lots of duplicates!\n",
    "        proteinIdToAlias[val[0]]=[val[1]]\n",
    "    else:\n",
    "        proteinIdToAlias[val[0]].append(val[1])\n",
    "        \n",
    "print('Built maps to identify proteins etc')\n",
    "print(str(datetime.datetime.now()))"
   ]
  },
  {
   "cell_type": "code",
   "execution_count": 8,
   "metadata": {},
   "outputs": [
    {
     "name": "stdout",
     "output_type": "stream",
     "text": [
      "Built degree distribution data of gene products across entire network\n",
      "2019-01-16 22:21:39.530274\n"
     ]
    }
   ],
   "source": [
    "#sorts the nodes and puts the ones with the highest degree on the top\n",
    "geneProdDist = []\n",
    "for v in g.vs:\n",
    "    geneProdDist.append(tuple([v.degree(), v.attributes()['name']]))\n",
    "\n",
    "print('Built degree distribution data of gene products across entire network')\n",
    "print(str(datetime.datetime.now()))"
   ]
  },
  {
   "cell_type": "code",
   "execution_count": 9,
   "metadata": {},
   "outputs": [
    {
     "name": "stdout",
     "output_type": "stream",
     "text": [
      "Filtered degree distribution data of gene products across entire network to just the gene products we care about\n",
      "2019-01-16 22:21:39.658772\n"
     ]
    }
   ],
   "source": [
    "specialGeneProdVals = []\n",
    "for item in geneProdDist:\n",
    "    aliasesForItem = proteinIdToAlias[item[1]]\n",
    "    isSpecial = not specialGenesProducts.isdisjoint(aliasesForItem)\n",
    "    if isSpecial:\n",
    "        specialGeneProdVals.append(item[0])\n",
    "        \n",
    "print('Filtered degree distribution data of gene products across entire network to just the gene products we care about')\n",
    "print(str(datetime.datetime.now()))"
   ]
  },
  {
   "cell_type": "code",
   "execution_count": 11,
   "metadata": {},
   "outputs": [
    {
     "data": {
      "text/plain": [
       "<matplotlib.legend.Legend at 0x18f9a7eb8>"
      ]
     },
     "execution_count": 11,
     "metadata": {},
     "output_type": "execute_result"
    },
    {
     "data": {
      "image/png": "[encoded data removed]",
      "text/plain": [
       "<Figure size 432x288 with 1 Axes>"
      ]
     },
     "metadata": {
      "needs_background": "light"
     },
     "output_type": "display_data"
    }
   ],
   "source": [
    "geneProdDistDF = pd.DataFrame(geneProdDist)\n",
    "minVal = geneProdDistDF[0].min()\n",
    "maxVal = geneProdDistDF[0].max()\n",
    "bins = np.linspace(minVal, maxVal, 50)\n",
    "\n",
    "plt.plot(bins, constructPdfData(geneProdDistDF[0], bins, False), label='Gene Prod Dist')\n",
    "plt.plot(bins, constructPdfData(specialGeneProdVals, bins, False), label='Special Gene Prod Dist')\n",
    "plt.title('Probability Distribution Function of Degree')\n",
    "plt.xscale('log')\n",
    "plt.yscale('log')\n",
    "plt.legend()"
   ]
  },
  {
   "cell_type": "code",
   "execution_count": null,
   "metadata": {},
   "outputs": [],
   "source": []
  }
 ],
 "metadata": {
  "kernelspec": {
   "display_name": "Python 3",
   "language": "python",
   "name": "python3"
  },
  "language_info": {
   "codemirror_mode": {
    "name": "ipython",
    "version": 3
   },
   "file_extension": ".py",
   "mimetype": "text/x-python",
   "name": "python",
   "nbconvert_exporter": "python",
   "pygments_lexer": "ipython3",
   "version": "3.7.2"
  }
 },
 "nbformat": 4,
 "nbformat_minor": 2
}
