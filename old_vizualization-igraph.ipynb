{
 "cells": [
  {
   "cell_type": "code",
   "execution_count": 1,
   "metadata": {},
   "outputs": [],
   "source": [
    "import pandas as pd\n",
    "import numpy as np\n",
    "import matplotlib as ml\n",
    "import matplotlib.pyplot as plt\n",
    "import igraph as ig\n",
    "import datetime"
   ]
  },
  {
   "cell_type": "code",
   "execution_count": 2,
   "metadata": {},
   "outputs": [
    {
     "name": "stdout",
     "output_type": "stream",
     "text": [
      "Start  2019-01-16 16:05:02.450291\n",
      "Files are read in  2019-01-16 16:05:09.504930\n"
     ]
    }
   ],
   "source": [
    "print('Start ', str(datetime.datetime.now()))\n",
    "rawLinks = pd.read_csv('data/9606.protein.links.v10.5.txt', delim_whitespace=True)\n",
    "rawAlias = pd.read_csv('data/9606.protein.aliases.v10.5.txt', delimiter='\\t')\n",
    "print('Files are read in ', str(datetime.datetime.now()))"
   ]
  },
  {
   "cell_type": "code",
   "execution_count": 3,
   "metadata": {},
   "outputs": [
    {
     "name": "stdout",
     "output_type": "stream",
     "text": [
      "Nodes and links are made  2019-01-16 16:05:12.362390\n",
      "Nodes  19576\n"
     ]
    }
   ],
   "source": [
    "links = list(zip(rawLinks.protein1, rawLinks.protein2))\n",
    "nodes = pd.unique(rawLinks[['protein1', 'protein2']].values.ravel('K'))\n",
    "edgeWeights = rawLinks.combined_score;\n",
    "print('Nodes and links are made ', str(datetime.datetime.now()))\n",
    "print('Nodes ', len(nodes))"
   ]
  },
  {
   "cell_type": "code",
   "execution_count": 4,
   "metadata": {},
   "outputs": [
    {
     "name": "stdout",
     "output_type": "stream",
     "text": [
      "Graph Strx is built  2019-01-16 16:05:17.703581\n"
     ]
    }
   ],
   "source": [
    "g = ig.Graph()\n",
    "g.add_vertices(nodes)\n",
    "g.add_edges(links)\n",
    "g.vs[\"label\"] = g.vs[\"name\"]\n",
    "print('Graph Strx is built ', str(datetime.datetime.now()))"
   ]
  },
  {
   "cell_type": "code",
   "execution_count": 5,
   "metadata": {},
   "outputs": [
    {
     "name": "stdout",
     "output_type": "stream",
     "text": [
      "done\n"
     ]
    }
   ],
   "source": [
    "#make a full diagram on the entire network.... don't do this\n",
    "if False:\n",
    "    print(str(datetime.datetime.now()))\n",
    "    layout = g.layout_drl(weights=edgeWeights)\n",
    "    #g.write_svg('graph.svg', layout = layout, width=25000, height=25000)\n",
    "    print(str(datetime.datetime.now()))\n",
    "    ig.plot(g, 'graph.png', layout = layout, bbox = (30000, 30000))\n",
    "    print(str(datetime.datetime.now()))\n",
    "    print('done -- open graph.png')\n",
    "print('done')"
   ]
  },
  {
   "cell_type": "code",
   "execution_count": 6,
   "metadata": {},
   "outputs": [
    {
     "name": "stdout",
     "output_type": "stream",
     "text": [
      "Done open out/fullmap/sortedbydegree.txt\n"
     ]
    }
   ],
   "source": [
    "#sorts the nodes and puts the ones with the highest degree on the top\n",
    "sortedNodes = sorted(g.vs, key=lambda v: v.degree(),reverse=True)\n",
    "with open('out/fullmap/sortedbydegree.txt', 'w') as f:\n",
    "    for v in sortedNodes:\n",
    "        f.write(str(v.degree()) + '\\t' + v.attributes()['name'] + '\\n')\n",
    "\n",
    "print('Done open out/fullmap/sortedbydegree.txt')"
   ]
  }
 ],
 "metadata": {
  "kernelspec": {
   "display_name": "Python 3",
   "language": "python",
   "name": "python3"
  },
  "language_info": {
   "codemirror_mode": {
    "name": "ipython",
    "version": 3
   },
   "file_extension": ".py",
   "mimetype": "text/x-python",
   "name": "python",
   "nbconvert_exporter": "python",
   "pygments_lexer": "ipython3",
   "version": "3.7.2"
  }
 },
 "nbformat": 4,
 "nbformat_minor": 2
}
