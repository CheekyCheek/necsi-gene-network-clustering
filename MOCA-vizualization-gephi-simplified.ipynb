{
 "cells": [
  {
   "cell_type": "code",
   "execution_count": 2,
   "metadata": {},
   "outputs": [],
   "source": [
    "import networkx as nx\n",
    "import pandas as pd\n",
    "import numpy as np\n",
    "import matplotlib as ml\n",
    "import matplotlib.pyplot as plt\n",
    "import datetime"
   ]
  },
  {
   "cell_type": "code",
   "execution_count": 11,
   "metadata": {},
   "outputs": [
    {
     "name": "stdout",
     "output_type": "stream",
     "text": [
      "Here\n",
      "2019-03-25 13:50:12.056799\n"
     ]
    }
   ],
   "source": [
    "rawLinks = pd.read_csv('MOCA-data/10090.protein.links.full.v11.0.CombinedScore.HighConfidence.csv')\n",
    "rawAlias = pd.read_csv('MOCA-data/10090.protein.aliases.v11.0.UniProt.csv')\n",
    "print('Here')\n",
    "print(str(datetime.datetime.now()))"
   ]
  },
  {
   "cell_type": "code",
   "execution_count": 6,
   "metadata": {},
   "outputs": [
    {
     "name": "stdout",
     "output_type": "stream",
     "text": [
      "Here\n",
      "There are  0  aliases which point to multiple protein ids\n",
      "2019-03-25 13:45:06.007432\n"
     ]
    }
   ],
   "source": [
    "#build a map of proteinId in rawLinks to gene product names\n",
    "proteinIdToAlias = {}\n",
    "aliasToProteinId = {}\n",
    "duplicatedAliases = []\n",
    "for val in list(zip(rawAlias.string_protein_id, rawAlias.alias)):\n",
    "    if val[1] in aliasToProteinId:\n",
    "        duplicatedAliases.append(str(val[1]))\n",
    "        aliasToProteinId[val[1]].append(val[0])\n",
    "    else:\n",
    "        aliasToProteinId[val[1]] = [val[0]]\n",
    "    \n",
    "    if not val[0] in proteinIdToAlias: #the alias file has lots of duplicates!\n",
    "        proteinIdToAlias[val[0]]=[val[1]]\n",
    "    else:\n",
    "        proteinIdToAlias[val[0]].append(val[1])\n",
    "        \n",
    "print('Here')\n",
    "print('There are ', len(duplicatedAliases), ' aliases which point to multiple protein ids')\n",
    "print(str(datetime.datetime.now()))"
   ]
  },
  {
   "cell_type": "code",
   "execution_count": 21,
   "metadata": {},
   "outputs": [
    {
     "name": "stdout",
     "output_type": "stream",
     "text": [
      "Here\n",
      "2019-03-25 13:53:18.092903\n"
     ]
    }
   ],
   "source": [
    "#build the list of links mapped to gene product name\n",
    "links = list(zip(rawLinks.protein1, rawLinks.protein2, rawLinks.combined_score))\n",
    "links = [list(elem) for elem in links]\n",
    "print('Here')\n",
    "print(str(datetime.datetime.now()))"
   ]
  },
  {
   "cell_type": "code",
   "execution_count": 45,
   "metadata": {},
   "outputs": [
    {
     "name": "stdout",
     "output_type": "stream",
     "text": [
      "2019-03-25 14:14:04.809624\n",
      "There are  2267  acceptable gene products\n",
      "Determining gene products which have multiple protein ids\n",
      "There are  0  aliases which have multiple protein ids\n",
      "There are  13700  filtered links\n",
      "2019-03-25 14:14:05.525175\n"
     ]
    }
   ],
   "source": [
    "#filter links where both in and out are in the dataset\n",
    "rawGeneList = pd.read_csv('MOCA-data/41586_2019_933_MOESM4_ESM.csv')\n",
    "acceptableGeneList = rawGeneList.mgi.map(lambda x: x.upper())\n",
    "acceptableGeneSet = set(acceptableGeneList)\n",
    "\n",
    "print(str(datetime.datetime.now()))\n",
    "print('There are ', len(acceptableGeneSet), ' acceptable gene products')\n",
    "\n",
    "print('Determining gene products which have multiple protein ids')\n",
    "problematic = list(acceptableGeneSet.intersection(duplicatedAliases))\n",
    "print('There are ', len(problematic), ' aliases which have multiple protein ids');\n",
    "\n",
    "filteredLinks = []\n",
    "for link in links:\n",
    "    aliasesOfStart = proteinIdToAlias[link[0]]\n",
    "    aliasesOfEnd = proteinIdToAlias[link[1]]\n",
    "    \n",
    "    if len(aliasesOfStart) == 0:\n",
    "        print(\"Empty start\" + link[0])\n",
    "        \n",
    "    if len(aliasesOfEnd) == 0:\n",
    "        print(\"Empty end\" + link[0])\n",
    "        \n",
    "        \n",
    "    startIsAcceptable = not acceptableGeneSet.isdisjoint(aliasesOfStart)\n",
    "    endIsAcceptable = not acceptableGeneSet.isdisjoint(aliasesOfEnd)\n",
    "    \n",
    "    if startIsAcceptable and endIsAcceptable:\n",
    "        filteredLinks.append(link)\n",
    "        \n",
    "print('There are ', len(filteredLinks), ' filtered links')\n",
    "print(str(datetime.datetime.now()))"
   ]
  },
  {
   "cell_type": "code",
   "execution_count": 47,
   "metadata": {},
   "outputs": [
    {
     "name": "stdout",
     "output_type": "stream",
     "text": [
      "Transform the filtered links...\n",
      "2019-03-25 14:14:28.533851\n",
      "Done...\n",
      "2019-03-25 14:14:32.660652\n"
     ]
    }
   ],
   "source": [
    "#transform filtered links to not use protein ids but rather aliases (or a combination)\n",
    "print('Transform the filtered links...')\n",
    "print(str(datetime.datetime.now()))\n",
    "for geneProduct in acceptableGeneSet:\n",
    "    if not geneProduct in aliasToProteinId:\n",
    "        continue\n",
    "        \n",
    "    proteinIds = aliasToProteinId[geneProduct]\n",
    "    for proteinId in proteinIds:\n",
    "        for link in filteredLinks:\n",
    "            if link[0] == proteinId:\n",
    "                link[0] = geneProduct\n",
    "            \n",
    "            if link[1] == proteinId:\n",
    "                link[1] = geneProduct\n",
    "\n",
    "print('Done...')\n",
    "print(str(datetime.datetime.now()))"
   ]
  },
  {
   "cell_type": "code",
   "execution_count": 48,
   "metadata": {},
   "outputs": [
    {
     "name": "stdout",
     "output_type": "stream",
     "text": [
      "2019-03-25 14:14:35.237088\n",
      "Now open out/gephi/moca.gml\n",
      "2019-03-25 14:14:35.335495\n"
     ]
    }
   ],
   "source": [
    "print(str(datetime.datetime.now()))\n",
    "G = nx.DiGraph()\n",
    "G.add_weighted_edges_from(filteredLinks)\n",
    "nx.write_gml(G, 'out/gephi/moca.gml')\n",
    "print('Now open out/gephi/moca.gml')\n",
    "print(str(datetime.datetime.now()))"
   ]
  },
  {
   "cell_type": "code",
   "execution_count": 49,
   "metadata": {},
   "outputs": [
    {
     "data": {
      "text/plain": [
       "(array([1054.,  814.,  640.,  698.,  558.,  550., 3922., 2506., 1248.,\n",
       "        1710.]),\n",
       " array([701. , 730.8, 760.6, 790.4, 820.2, 850. , 879.8, 909.6, 939.4,\n",
       "        969.2, 999. ]),\n",
       " <a list of 10 Patch objects>)"
      ]
     },
     "execution_count": 49,
     "metadata": {},
     "output_type": "execute_result"
    },
    {
     "data": {
      "image/png": "[encoded data removed]",
      "text/plain": [
       "<Figure size 432x288 with 1 Axes>"
      ]
     },
     "metadata": {
      "needs_background": "light"
     },
     "output_type": "display_data"
    }
   ],
   "source": [
    "weights = []\n",
    "for link in filteredLinks:\n",
    "    weights.append(link[2])\n",
    "    \n",
    "plt.hist(weights)"
   ]
  },
  {
   "cell_type": "code",
   "execution_count": null,
   "metadata": {},
   "outputs": [],
   "source": []
  }
 ],
 "metadata": {
  "kernelspec": {
   "display_name": "Python 3",
   "language": "python",
   "name": "python3"
  },
  "language_info": {
   "codemirror_mode": {
    "name": "ipython",
    "version": 3
   },
   "file_extension": ".py",
   "mimetype": "text/x-python",
   "name": "python",
   "nbconvert_exporter": "python",
   "pygments_lexer": "ipython3",
   "version": "3.7.2"
  }
 },
 "nbformat": 4,
 "nbformat_minor": 2
}
