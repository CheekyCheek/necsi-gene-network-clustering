{
 "cells": [
  {
   "cell_type": "code",
   "execution_count": 1,
   "metadata": {},
   "outputs": [],
   "source": [
    "import networkx as nx\n",
    "import pandas as pd\n",
    "import numpy as np\n",
    "import matplotlib as ml\n",
    "import matplotlib.pyplot as plt\n",
    "import datetime\n",
    "\n",
    "trajectory = 'DE-HG2'"
   ]
  },
  {
   "cell_type": "code",
   "execution_count": 2,
   "metadata": {},
   "outputs": [
    {
     "name": "stdout",
     "output_type": "stream",
     "text": [
      "Here\n",
      "2019-03-25 16:03:11.365089\n"
     ]
    }
   ],
   "source": [
    "rawLinks = pd.read_csv('MOCA-data/10090.protein.links.full.v11.0.CombinedScore.HighConfidence.csv')\n",
    "rawAlias = pd.read_csv('MOCA-data/10090.protein.aliases.v11.0.UniProt.csv')\n",
    "print('Here')\n",
    "print(str(datetime.datetime.now()))"
   ]
  },
  {
   "cell_type": "code",
   "execution_count": 3,
   "metadata": {},
   "outputs": [
    {
     "name": "stdout",
     "output_type": "stream",
     "text": [
      "Here\n",
      "There are  0  aliases which point to multiple protein ids\n",
      "2019-03-25 16:03:11.474174\n"
     ]
    }
   ],
   "source": [
    "#build a map of proteinId in rawLinks to gene product names\n",
    "proteinIdToAlias = {}\n",
    "aliasToProteinId = {}\n",
    "duplicatedAliases = []\n",
    "for val in list(zip(rawAlias.string_protein_id, rawAlias.alias)):\n",
    "    if val[1] in aliasToProteinId:\n",
    "        duplicatedAliases.append(str(val[1]))\n",
    "        aliasToProteinId[val[1]].append(val[0])\n",
    "    else:\n",
    "        aliasToProteinId[val[1]] = [val[0]]\n",
    "    \n",
    "    if not val[0] in proteinIdToAlias: #the alias file has lots of duplicates!\n",
    "        proteinIdToAlias[val[0]]=[val[1]]\n",
    "    else:\n",
    "        proteinIdToAlias[val[0]].append(val[1])\n",
    "        \n",
    "print('Here')\n",
    "print('There are ', len(duplicatedAliases), ' aliases which point to multiple protein ids')\n",
    "print(str(datetime.datetime.now()))"
   ]
  },
  {
   "cell_type": "code",
   "execution_count": 4,
   "metadata": {},
   "outputs": [
    {
     "name": "stdout",
     "output_type": "stream",
     "text": [
      "Here\n",
      "2019-03-25 16:03:12.142461\n"
     ]
    }
   ],
   "source": [
    "#build the list of links mapped to gene product name\n",
    "links = list(zip(rawLinks.protein1, rawLinks.protein2, rawLinks.combined_score))\n",
    "links = [list(elem) for elem in links]\n",
    "print('Here')\n",
    "print(str(datetime.datetime.now()))"
   ]
  },
  {
   "cell_type": "code",
   "execution_count": 5,
   "metadata": {},
   "outputs": [
    {
     "name": "stdout",
     "output_type": "stream",
     "text": [
      "2019-03-25 16:03:12.149720\n",
      "2019-03-25 16:03:12.356217\n"
     ]
    }
   ],
   "source": [
    "#read in the gene list and build the acceptable set\n",
    "print(str(datetime.datetime.now()))\n",
    "rawGeneList = pd.read_csv('MOCA-data/41586_2019_933_MOESM4_ESM.csv')\n",
    "genesByTrajectory = {};\n",
    "clusterForGene = {};\n",
    "for index, row in rawGeneList.iterrows():\n",
    "    traj = row.trajectory;\n",
    "    mgi = row.mgi.upper();\n",
    "    cluster = row.cluster;\n",
    "    \n",
    "    clusterForGene[mgi] = cluster\n",
    "    \n",
    "    if traj in genesByTrajectory:\n",
    "        genesByTrajectory[traj].append({'mgi': mgi, 'cluster': cluster});\n",
    "    else:\n",
    "        genesByTrajectory[traj] = [{'mgi': mgi, 'cluster': cluster}];\n",
    "\n",
    "acceptableGeneSet = set(map(lambda x: x['mgi'], genesByTrajectory[trajectory]))\n",
    "print(str(datetime.datetime.now()))"
   ]
  },
  {
   "cell_type": "code",
   "execution_count": 6,
   "metadata": {},
   "outputs": [
    {
     "name": "stdout",
     "output_type": "stream",
     "text": [
      "2019-03-25 16:03:12.362112\n",
      "There are  1258  acceptable gene products\n",
      "Determining gene products which have multiple protein ids\n",
      "There are  0  aliases which have multiple protein ids\n",
      "There are  6538  filtered links\n",
      "2019-03-25 16:03:12.896850\n"
     ]
    }
   ],
   "source": [
    "#filter links where both in and out are in the dataset\n",
    "print(str(datetime.datetime.now()))\n",
    "print('There are ', len(acceptableGeneSet), ' acceptable gene products')\n",
    "\n",
    "print('Determining gene products which have multiple protein ids')\n",
    "problematic = list(acceptableGeneSet.intersection(duplicatedAliases))\n",
    "print('There are ', len(problematic), ' aliases which have multiple protein ids');\n",
    "\n",
    "filteredLinks = []\n",
    "for link in links:\n",
    "    aliasesOfStart = proteinIdToAlias[link[0]]\n",
    "    aliasesOfEnd = proteinIdToAlias[link[1]]\n",
    "     \n",
    "    startIsAcceptable = not acceptableGeneSet.isdisjoint(aliasesOfStart)\n",
    "    endIsAcceptable = not acceptableGeneSet.isdisjoint(aliasesOfEnd)\n",
    "    \n",
    "    if startIsAcceptable and endIsAcceptable:\n",
    "        filteredLinks.append(link)\n",
    "        \n",
    "print('There are ', len(filteredLinks), ' filtered links')\n",
    "print(str(datetime.datetime.now()))"
   ]
  },
  {
   "cell_type": "code",
   "execution_count": 7,
   "metadata": {},
   "outputs": [
    {
     "name": "stdout",
     "output_type": "stream",
     "text": [
      "Transform the filtered links...\n",
      "2019-03-25 16:03:12.903455\n",
      "Done...\n",
      "2019-03-25 16:03:14.022945\n"
     ]
    }
   ],
   "source": [
    "#transform filtered links to not use protein ids but rather aliases (or a combination)\n",
    "print('Transform the filtered links...')\n",
    "print(str(datetime.datetime.now()))\n",
    "for geneProduct in acceptableGeneSet:\n",
    "    if not geneProduct in aliasToProteinId:\n",
    "        continue\n",
    "        \n",
    "    proteinIds = aliasToProteinId[geneProduct]\n",
    "    for proteinId in proteinIds:\n",
    "        for link in filteredLinks:\n",
    "            if link[0] == proteinId:\n",
    "                link[0] = geneProduct\n",
    "            \n",
    "            if link[1] == proteinId:\n",
    "                link[1] = geneProduct\n",
    "\n",
    "print('Done...')\n",
    "print(str(datetime.datetime.now()))"
   ]
  },
  {
   "cell_type": "code",
   "execution_count": 8,
   "metadata": {},
   "outputs": [
    {
     "name": "stdout",
     "output_type": "stream",
     "text": [
      "2019-03-25 16:03:14.028985\n",
      "Now open out/gephi/mocaDE-HG2.gml\n",
      "2019-03-25 16:03:14.084063\n"
     ]
    }
   ],
   "source": [
    "print(str(datetime.datetime.now()))\n",
    "G = nx.DiGraph()\n",
    "G.add_weighted_edges_from(filteredLinks)\n",
    "\n",
    "clusters = {}\n",
    "\n",
    "for n in G.nodes:\n",
    "    clusters[n] = clusterForGene[n]\n",
    "\n",
    "nx.set_node_attributes(G, clusters, 'cluster');\n",
    "\n",
    "nx.write_gml(G, 'out/gephi/moca' + trajectory + '.gml')\n",
    "print('Now open out/gephi/moca' + trajectory + '.gml')\n",
    "print(str(datetime.datetime.now()))"
   ]
  },
  {
   "cell_type": "code",
   "execution_count": 9,
   "metadata": {},
   "outputs": [
    {
     "data": {
      "text/plain": [
       "(array([ 546.,  396.,  324.,  344.,  302.,  302., 1578., 1102.,  608.,\n",
       "        1036.]),\n",
       " array([701. , 730.8, 760.6, 790.4, 820.2, 850. , 879.8, 909.6, 939.4,\n",
       "        969.2, 999. ]),\n",
       " <a list of 10 Patch objects>)"
      ]
     },
     "execution_count": 9,
     "metadata": {},
     "output_type": "execute_result"
    },
    {
     "data": {
      "image/png": "[encoded data removed]",
      "text/plain": [
       "<Figure size 432x288 with 1 Axes>"
      ]
     },
     "metadata": {
      "needs_background": "light"
     },
     "output_type": "display_data"
    }
   ],
   "source": [
    "weights = []\n",
    "for link in filteredLinks:\n",
    "    weights.append(link[2])\n",
    "    \n",
    "plt.hist(weights)"
   ]
  },
  {
   "cell_type": "code",
   "execution_count": null,
   "metadata": {},
   "outputs": [],
   "source": []
  }
 ],
 "metadata": {
  "kernelspec": {
   "display_name": "Python 3",
   "language": "python",
   "name": "python3"
  },
  "language_info": {
   "codemirror_mode": {
    "name": "ipython",
    "version": 3
   },
   "file_extension": ".py",
   "mimetype": "text/x-python",
   "name": "python",
   "nbconvert_exporter": "python",
   "pygments_lexer": "ipython3",
   "version": "3.7.2"
  }
 },
 "nbformat": 4,
 "nbformat_minor": 2
}
